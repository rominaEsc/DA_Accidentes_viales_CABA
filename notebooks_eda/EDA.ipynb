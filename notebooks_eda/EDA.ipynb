{
 "cells": [
  {
   "cell_type": "markdown",
   "metadata": {},
   "source": [
    "---"
   ]
  },
  {
   "cell_type": "markdown",
   "metadata": {},
   "source": [
    "# Siniestros viales"
   ]
  },
  {
   "cell_type": "markdown",
   "metadata": {},
   "source": [
    "----"
   ]
  },
  {
   "cell_type": "markdown",
   "metadata": {},
   "source": [
    "# índice:\n",
    "\n",
    "* Introducción\n",
    "* Objetivo\n",
    "* Librerías y configuraciones\n",
    "* Carga de datos\n",
    "* Dataset df_fallecimientos\n",
    "    * Tamaño del dataset y análisis del tipo de variables\n",
    "    * Diccionario de variables\n",
    "    * Analisis de valores nulos y duplicados\n",
    "    * !! Esto no se si dejarlo o sacarlo  cOLUMNA ubicación!!!!!!!!!!!!!!!!\n",
    "    * Analisis de columnas sin datos (SD)\n",
    "    * Análisis de los datos segun su tipo\n",
    "    * Análisis de la columna 'participantes'\n",
    "    * Cantidad de victimas totales a lo largo del tiempo y por año\n",
    "        * Gáficos: Frecuencia y porcentaje de fallecidos por accidente entre 2016 y 2021\n",
    "        * Gráfico: Cantidad de siniestros viales por año.\n",
    "        * Gráfico: Histograma de siniestros viales por año\n",
    "        * Gráfico temporal: Cantidad de fallecidos en Accidentes de transito entre 2016 y 2021\n",
    "* Dataset df_víctimas\n",
    "    * Tamaño del dataset y análisis del tipo de variables\n",
    "    * Diccionario de variables\n",
    "    * Analisis de valores nulos y duplicados\n",
    "    * Analisis de columnas sin datos (SD)\n",
    "    * Análisis de los datos segun su tipo\n",
    "    * Análisis de la columna 'participantes'\n",
    "    * TITILO FALTANTE"
   ]
  },
  {
   "cell_type": "markdown",
   "metadata": {},
   "source": [
    "---"
   ]
  },
  {
   "cell_type": "markdown",
   "metadata": {},
   "source": [
    "# Introducción\n",
    "\n",
    "El Observatorio de Movilidad y Seguridad Vial (OMSV), perteneciente a la Secretaría de Transporte del Gobierno de la Ciudad Autónoma de Buenos Aires, nos ha proporcionado el conjunto de datos '/data/homicidios.xlsx', el cual está en formato xlsx y contiene dos hojas llamadas 'hechos' y 'víctimas' con información sobre los accidentes viales con víctimas fallecidas en CABA entre los años 2016 y 2021. Además, contiene dos hojas adicionales con diccionarios de datos a partir de las cuales se crearon los diccionarios que se encuentran en la carpeta 'data/diccionarios'. El archivo '/notebooks/diccionarios' contiene el ETL de estas dos últimas hojas.\n",
    "\n",
    "# Objetivo\n",
    "En el presente análisis de datos Buscaremos generar información que le permita a las autoridades de la Ciudad Autonónoma de Buenos Aires(CABA) tomar medidas para disminuir la cantidad de víctimas fatales de los siniestros viales. "
   ]
  },
  {
   "cell_type": "markdown",
   "metadata": {},
   "source": [
    "# Librerías y configuraciones"
   ]
  },
  {
   "cell_type": "code",
   "execution_count": 217,
   "metadata": {},
   "outputs": [],
   "source": [
    "# Importamos las librerías básicas:\n",
    "import pandas as pd\n",
    "import matplotlib.pyplot as plt\n",
    "from matplotlib.ticker import MultipleLocator\n",
    "from matplotlib.ticker import MaxNLocator\n",
    "\n",
    "\n",
    "import seaborn as sns\n",
    "import numpy as np\n",
    "from scipy.stats import norm\n",
    "from sklearn.preprocessing import StandardScaler\n",
    "from scipy import stats\n",
    "import warnings\n",
    "\n",
    "\n",
    "warnings.filterwarnings('ignore') # Para evitar los molestos avisos.\n",
    "\n",
    "pd.set_option('display.max_colwidth', 200)\n",
    "pd.options.display.max_columns = None\n",
    "\n",
    "\n",
    "%matplotlib inline\n",
    "sns.set_style(style='whitegrid')\n",
    "sns.set_context(context='notebook')\n",
    "plt.rcParams['figure.figsize'] = (11, 9.4)\n",
    "\n",
    "paleta_de_colores = {\n",
    "    'color_principal': '#009AAE',\n",
    "    'color_principal_home': '#007A8A',\n",
    "    'color_secundario': '#414042',\n",
    "    'color_terciario': '#C0C0C0',\n",
    "    'color_genero': '#592673'\n",
    "}\n",
    "\n",
    "plt.rcParams['font.family'] = 'Arial'\n",
    "plt.style.use(\"_mpl-gallery-nogrid\")"
   ]
  },
  {
   "cell_type": "code",
   "execution_count": 218,
   "metadata": {},
   "outputs": [],
   "source": [
    "# import matplotlib.pyplot as plt\n",
    "# from cycler import cycler\n",
    "\n",
    "# # Define tu propia lista de colores en formato hexadecimal o nombres de colores\n",
    "# custom_colors = ['#FF5733', '#5DADE2', '#58D68D', '#F4D03F']\n",
    "\n",
    "# # Crea un ciclo de colores utilizando la lista de colores personalizada\n",
    "# custom_cycler = cycler(color=custom_colors)\n",
    "\n",
    "# # Aplica el ciclo de colores a tu configuración de estilo\n",
    "# plt.rc('axes', prop_cycle=custom_cycler)\n",
    "\n",
    "# # Tu código para crear un gráfico"
   ]
  },
  {
   "cell_type": "markdown",
   "metadata": {},
   "source": [
    "# Carga de datos"
   ]
  },
  {
   "cell_type": "code",
   "execution_count": 219,
   "metadata": {},
   "outputs": [],
   "source": [
    "\n",
    "df_fallecimientos = pd.read_excel(io='../data/homicidios.xlsx',sheet_name ='HECHOS',)\n",
    "df_victimas = pd.read_excel(io='../data/homicidios.xlsx',sheet_name ='VICTIMAS',)\n",
    "df_diccionario_fallecimientos = pd.read_csv('../data/diccionarios/diccionario_valores_de_variables_del_df_homicidios.csv')\n",
    "df_diccionario_variables_del_df_victimas = pd.read_csv('../data/diccionarios/diccionario_de_variables_y_definiciones_del_df_victimas.csv')\n"
   ]
  },
  {
   "cell_type": "markdown",
   "metadata": {},
   "source": [
    "# Dataset df_fallecimientos"
   ]
  },
  {
   "cell_type": "markdown",
   "metadata": {},
   "source": [
    "* Tamaño del dataset y análisis del tipo de variables"
   ]
  },
  {
   "cell_type": "code",
   "execution_count": 220,
   "metadata": {},
   "outputs": [
    {
     "data": {
      "text/html": [
       "<div>\n",
       "<style scoped>\n",
       "    .dataframe tbody tr th:only-of-type {\n",
       "        vertical-align: middle;\n",
       "    }\n",
       "\n",
       "    .dataframe tbody tr th {\n",
       "        vertical-align: top;\n",
       "    }\n",
       "\n",
       "    .dataframe thead th {\n",
       "        text-align: right;\n",
       "    }\n",
       "</style>\n",
       "<table border=\"1\" class=\"dataframe\">\n",
       "  <thead>\n",
       "    <tr style=\"text-align: right;\">\n",
       "      <th></th>\n",
       "      <th>ID</th>\n",
       "      <th>N_VICTIMAS</th>\n",
       "      <th>FECHA</th>\n",
       "      <th>AAAA</th>\n",
       "      <th>MM</th>\n",
       "      <th>DD</th>\n",
       "      <th>HORA</th>\n",
       "      <th>HH</th>\n",
       "      <th>LUGAR_DEL_HECHO</th>\n",
       "      <th>TIPO_DE_CALLE</th>\n",
       "      <th>Calle</th>\n",
       "      <th>Altura</th>\n",
       "      <th>Cruce</th>\n",
       "      <th>Dirección Normalizada</th>\n",
       "      <th>COMUNA</th>\n",
       "      <th>XY (CABA)</th>\n",
       "      <th>pos x</th>\n",
       "      <th>pos y</th>\n",
       "      <th>PARTICIPANTES</th>\n",
       "      <th>VICTIMA</th>\n",
       "      <th>ACUSADO</th>\n",
       "    </tr>\n",
       "  </thead>\n",
       "  <tbody>\n",
       "    <tr>\n",
       "      <th>0</th>\n",
       "      <td>2016-0001</td>\n",
       "      <td>1</td>\n",
       "      <td>2016-01-01</td>\n",
       "      <td>2016</td>\n",
       "      <td>1</td>\n",
       "      <td>1</td>\n",
       "      <td>04:00:00</td>\n",
       "      <td>4</td>\n",
       "      <td>AV PIEDRA BUENA Y AV FERNANDEZ DE LA CRUZ</td>\n",
       "      <td>AVENIDA</td>\n",
       "      <td>PIEDRA BUENA AV.</td>\n",
       "      <td>NaN</td>\n",
       "      <td>FERNANDEZ DE LA CRUZ, F., GRAL. AV.</td>\n",
       "      <td>PIEDRA BUENA AV. y FERNANDEZ DE LA CRUZ, F., GRAL. AV.</td>\n",
       "      <td>8</td>\n",
       "      <td>Point (98896.78238426 93532.43437792)</td>\n",
       "      <td>-58.47533969</td>\n",
       "      <td>-34.68757022</td>\n",
       "      <td>MOTO-AUTO</td>\n",
       "      <td>MOTO</td>\n",
       "      <td>AUTO</td>\n",
       "    </tr>\n",
       "    <tr>\n",
       "      <th>1</th>\n",
       "      <td>2016-0002</td>\n",
       "      <td>1</td>\n",
       "      <td>2016-01-02</td>\n",
       "      <td>2016</td>\n",
       "      <td>1</td>\n",
       "      <td>2</td>\n",
       "      <td>01:15:00</td>\n",
       "      <td>1</td>\n",
       "      <td>AV GRAL PAZ  Y AV DE LOS CORRALES</td>\n",
       "      <td>GRAL PAZ</td>\n",
       "      <td>PAZ, GRAL. AV.</td>\n",
       "      <td>NaN</td>\n",
       "      <td>DE LOS CORRALES AV.</td>\n",
       "      <td>PAZ, GRAL. AV. y DE LOS CORRALES AV.</td>\n",
       "      <td>9</td>\n",
       "      <td>Point (95832.05571093 95505.41641999)</td>\n",
       "      <td>-58.50877521</td>\n",
       "      <td>-34.66977709</td>\n",
       "      <td>AUTO-PASAJEROS</td>\n",
       "      <td>AUTO</td>\n",
       "      <td>PASAJEROS</td>\n",
       "    </tr>\n",
       "    <tr>\n",
       "      <th>2</th>\n",
       "      <td>2016-0003</td>\n",
       "      <td>1</td>\n",
       "      <td>2016-01-03</td>\n",
       "      <td>2016</td>\n",
       "      <td>1</td>\n",
       "      <td>3</td>\n",
       "      <td>07:00:00</td>\n",
       "      <td>7</td>\n",
       "      <td>AV ENTRE RIOS 2034</td>\n",
       "      <td>AVENIDA</td>\n",
       "      <td>ENTRE RIOS AV.</td>\n",
       "      <td>2034.0</td>\n",
       "      <td>NaN</td>\n",
       "      <td>ENTRE RIOS AV. 2034</td>\n",
       "      <td>1</td>\n",
       "      <td>Point (106684.29090040 99706.57687843)</td>\n",
       "      <td>-58.39040293</td>\n",
       "      <td>-34.63189362</td>\n",
       "      <td>MOTO-AUTO</td>\n",
       "      <td>MOTO</td>\n",
       "      <td>AUTO</td>\n",
       "    </tr>\n",
       "    <tr>\n",
       "      <th>3</th>\n",
       "      <td>2016-0004</td>\n",
       "      <td>1</td>\n",
       "      <td>2016-01-10</td>\n",
       "      <td>2016</td>\n",
       "      <td>1</td>\n",
       "      <td>10</td>\n",
       "      <td>00:00:00</td>\n",
       "      <td>0</td>\n",
       "      <td>AV LARRAZABAL Y GRAL VILLEGAS CONRADO</td>\n",
       "      <td>AVENIDA</td>\n",
       "      <td>LARRAZABAL AV.</td>\n",
       "      <td>NaN</td>\n",
       "      <td>VILLEGAS, CONRADO, GRAL.</td>\n",
       "      <td>LARRAZABAL AV. y VILLEGAS, CONRADO, GRAL.</td>\n",
       "      <td>8</td>\n",
       "      <td>Point (99840.65224780 94269.16534422)</td>\n",
       "      <td>-58.46503904</td>\n",
       "      <td>-34.68092974</td>\n",
       "      <td>MOTO-SD</td>\n",
       "      <td>MOTO</td>\n",
       "      <td>SD</td>\n",
       "    </tr>\n",
       "    <tr>\n",
       "      <th>4</th>\n",
       "      <td>2016-0005</td>\n",
       "      <td>1</td>\n",
       "      <td>2016-01-21</td>\n",
       "      <td>2016</td>\n",
       "      <td>1</td>\n",
       "      <td>21</td>\n",
       "      <td>05:20:00</td>\n",
       "      <td>5</td>\n",
       "      <td>AV SAN JUAN Y PRESIDENTE LUIS SAENZ PEÑA</td>\n",
       "      <td>AVENIDA</td>\n",
       "      <td>SAN JUAN AV.</td>\n",
       "      <td>NaN</td>\n",
       "      <td>SAENZ PE?A, LUIS, PRES.</td>\n",
       "      <td>SAN JUAN AV. y SAENZ PEÃ‘A, LUIS, PRES.</td>\n",
       "      <td>1</td>\n",
       "      <td>Point (106980.32827929 100752.16915795)</td>\n",
       "      <td>-58.38718297</td>\n",
       "      <td>-34.62246630</td>\n",
       "      <td>MOTO-PASAJEROS</td>\n",
       "      <td>MOTO</td>\n",
       "      <td>PASAJEROS</td>\n",
       "    </tr>\n",
       "  </tbody>\n",
       "</table>\n",
       "</div>"
      ],
      "text/plain": [
       "          ID  N_VICTIMAS      FECHA  AAAA  MM  DD      HORA HH  \\\n",
       "0  2016-0001           1 2016-01-01  2016   1   1  04:00:00  4   \n",
       "1  2016-0002           1 2016-01-02  2016   1   2  01:15:00  1   \n",
       "2  2016-0003           1 2016-01-03  2016   1   3  07:00:00  7   \n",
       "3  2016-0004           1 2016-01-10  2016   1  10  00:00:00  0   \n",
       "4  2016-0005           1 2016-01-21  2016   1  21  05:20:00  5   \n",
       "\n",
       "                             LUGAR_DEL_HECHO TIPO_DE_CALLE             Calle  \\\n",
       "0  AV PIEDRA BUENA Y AV FERNANDEZ DE LA CRUZ       AVENIDA  PIEDRA BUENA AV.   \n",
       "1          AV GRAL PAZ  Y AV DE LOS CORRALES      GRAL PAZ    PAZ, GRAL. AV.   \n",
       "2                         AV ENTRE RIOS 2034       AVENIDA    ENTRE RIOS AV.   \n",
       "3      AV LARRAZABAL Y GRAL VILLEGAS CONRADO       AVENIDA    LARRAZABAL AV.   \n",
       "4  AV SAN JUAN Y PRESIDENTE LUIS SAENZ PEÑA        AVENIDA      SAN JUAN AV.   \n",
       "\n",
       "   Altura                                Cruce  \\\n",
       "0     NaN  FERNANDEZ DE LA CRUZ, F., GRAL. AV.   \n",
       "1     NaN                  DE LOS CORRALES AV.   \n",
       "2  2034.0                                  NaN   \n",
       "3     NaN             VILLEGAS, CONRADO, GRAL.   \n",
       "4     NaN              SAENZ PE?A, LUIS, PRES.   \n",
       "\n",
       "                                    Dirección Normalizada  COMUNA  \\\n",
       "0  PIEDRA BUENA AV. y FERNANDEZ DE LA CRUZ, F., GRAL. AV.       8   \n",
       "1                    PAZ, GRAL. AV. y DE LOS CORRALES AV.       9   \n",
       "2                                     ENTRE RIOS AV. 2034       1   \n",
       "3               LARRAZABAL AV. y VILLEGAS, CONRADO, GRAL.       8   \n",
       "4                 SAN JUAN AV. y SAENZ PEÃ‘A, LUIS, PRES.       1   \n",
       "\n",
       "                                 XY (CABA)         pos x         pos y  \\\n",
       "0    Point (98896.78238426 93532.43437792)  -58.47533969  -34.68757022   \n",
       "1    Point (95832.05571093 95505.41641999)  -58.50877521  -34.66977709   \n",
       "2   Point (106684.29090040 99706.57687843)  -58.39040293  -34.63189362   \n",
       "3    Point (99840.65224780 94269.16534422)  -58.46503904  -34.68092974   \n",
       "4  Point (106980.32827929 100752.16915795)  -58.38718297  -34.62246630   \n",
       "\n",
       "    PARTICIPANTES VICTIMA    ACUSADO  \n",
       "0       MOTO-AUTO    MOTO       AUTO  \n",
       "1  AUTO-PASAJEROS    AUTO  PASAJEROS  \n",
       "2       MOTO-AUTO    MOTO       AUTO  \n",
       "3         MOTO-SD    MOTO         SD  \n",
       "4  MOTO-PASAJEROS    MOTO  PASAJEROS  "
      ]
     },
     "execution_count": 220,
     "metadata": {},
     "output_type": "execute_result"
    }
   ],
   "source": [
    "df_fallecimientos.head()"
   ]
  },
  {
   "cell_type": "code",
   "execution_count": 221,
   "metadata": {},
   "outputs": [
    {
     "data": {
      "text/plain": [
       "(696, 21)"
      ]
     },
     "execution_count": 221,
     "metadata": {},
     "output_type": "execute_result"
    }
   ],
   "source": [
    "df_fallecimientos.shape"
   ]
  },
  {
   "cell_type": "code",
   "execution_count": 222,
   "metadata": {},
   "outputs": [
    {
     "name": "stdout",
     "output_type": "stream",
     "text": [
      "<class 'pandas.core.frame.DataFrame'>\n",
      "RangeIndex: 696 entries, 0 to 695\n",
      "Data columns (total 21 columns):\n",
      " #   Column                 Non-Null Count  Dtype         \n",
      "---  ------                 --------------  -----         \n",
      " 0   ID                     696 non-null    object        \n",
      " 1   N_VICTIMAS             696 non-null    int64         \n",
      " 2   FECHA                  696 non-null    datetime64[ns]\n",
      " 3   AAAA                   696 non-null    int64         \n",
      " 4   MM                     696 non-null    int64         \n",
      " 5   DD                     696 non-null    int64         \n",
      " 6   HORA                   696 non-null    object        \n",
      " 7   HH                     696 non-null    object        \n",
      " 8   LUGAR_DEL_HECHO        696 non-null    object        \n",
      " 9   TIPO_DE_CALLE          696 non-null    object        \n",
      " 10  Calle                  695 non-null    object        \n",
      " 11  Altura                 129 non-null    float64       \n",
      " 12  Cruce                  525 non-null    object        \n",
      " 13  Dirección Normalizada  688 non-null    object        \n",
      " 14  COMUNA                 696 non-null    int64         \n",
      " 15  XY (CABA)              696 non-null    object        \n",
      " 16  pos x                  696 non-null    object        \n",
      " 17  pos y                  696 non-null    object        \n",
      " 18  PARTICIPANTES          696 non-null    object        \n",
      " 19  VICTIMA                696 non-null    object        \n",
      " 20  ACUSADO                696 non-null    object        \n",
      "dtypes: datetime64[ns](1), float64(1), int64(5), object(14)\n",
      "memory usage: 114.3+ KB\n"
     ]
    }
   ],
   "source": [
    "df_fallecimientos.info()"
   ]
  },
  {
   "cell_type": "code",
   "execution_count": 223,
   "metadata": {},
   "outputs": [
    {
     "data": {
      "text/plain": [
       "object            14\n",
       "int64              5\n",
       "datetime64[ns]     1\n",
       "float64            1\n",
       "dtype: int64"
      ]
     },
     "execution_count": 223,
     "metadata": {},
     "output_type": "execute_result"
    }
   ],
   "source": [
    "df_fallecimientos.dtypes.value_counts()"
   ]
  },
  {
   "cell_type": "code",
   "execution_count": 224,
   "metadata": {},
   "outputs": [
    {
     "name": "stdout",
     "output_type": "stream",
     "text": [
      "El dataset posee 696 filas y 21 columnas.\n",
      "Las columnas del dataset son ['ID', 'N_VICTIMAS', 'FECHA', 'AAAA', 'MM', 'DD', 'HORA', 'HH', 'LUGAR_DEL_HECHO', 'TIPO_DE_CALLE', 'Calle', 'Altura', 'Cruce', 'Dirección Normalizada', 'COMUNA', 'XY (CABA)', 'pos x', 'pos y', 'PARTICIPANTES', 'VICTIMA', 'ACUSADO']\n"
     ]
    }
   ],
   "source": [
    "print('El dataset posee', df_fallecimientos.shape[0], 'filas y', df_fallecimientos.shape[1], 'columnas.')\n",
    "print('Las columnas del dataset son', list(df_fallecimientos.columns))"
   ]
  },
  {
   "cell_type": "markdown",
   "metadata": {},
   "source": [
    "Para una mejor visualización de los nombres de las variables, normalizaremos los nombres de las columnas, estos se escribirán con la convención snake case. "
   ]
  },
  {
   "cell_type": "code",
   "execution_count": 225,
   "metadata": {},
   "outputs": [
    {
     "data": {
      "text/plain": [
       "Index(['id', 'n_victimas', 'fecha', 'aaaa', 'mm', 'dd', 'hora', 'hh',\n",
       "       'lugar_del_hecho', 'tipo_de_calle', 'calle', 'altura', 'cruce',\n",
       "       'direccion_normalizada', 'comuna', 'xy', 'x', 'y', 'participantes',\n",
       "       'victima', 'acusado'],\n",
       "      dtype='object')"
      ]
     },
     "execution_count": 225,
     "metadata": {},
     "output_type": "execute_result"
    }
   ],
   "source": [
    "df_fallecimientos.columns = ['id',\n",
    " 'n_victimas',\n",
    " 'fecha',\n",
    " 'aaaa',\n",
    " 'mm',\n",
    " 'dd',\n",
    " 'hora',\n",
    " 'hh',\n",
    " 'lugar_del_hecho',\n",
    " 'tipo_de_calle',\n",
    " 'calle',\n",
    " 'altura',\n",
    " 'cruce',\n",
    " 'direccion_normalizada',\n",
    " 'comuna',\n",
    " 'xy',\n",
    " 'x',\n",
    " 'y',\n",
    " 'participantes',\n",
    " 'victima',\n",
    " 'acusado',\n",
    " ]\n",
    "df_fallecimientos.columns"
   ]
  },
  {
   "cell_type": "markdown",
   "metadata": {},
   "source": [
    "* Diccionario de variables"
   ]
  },
  {
   "cell_type": "markdown",
   "metadata": {},
   "source": [
    "Para comprender el dataset utilizaremos el siguiente diccionario de variables que se extajo de una pestaña del xls de donde extrajimos los datos."
   ]
  },
  {
   "cell_type": "code",
   "execution_count": 226,
   "metadata": {},
   "outputs": [
    {
     "data": {
      "text/html": [
       "<div>\n",
       "<style scoped>\n",
       "    .dataframe tbody tr th:only-of-type {\n",
       "        vertical-align: middle;\n",
       "    }\n",
       "\n",
       "    .dataframe tbody tr th {\n",
       "        vertical-align: top;\n",
       "    }\n",
       "\n",
       "    .dataframe thead th {\n",
       "        text-align: right;\n",
       "    }\n",
       "</style>\n",
       "<table border=\"1\" class=\"dataframe\">\n",
       "  <thead>\n",
       "    <tr style=\"text-align: right;\">\n",
       "      <th></th>\n",
       "      <th>variables_y_definiciones</th>\n",
       "      <th>descripcion</th>\n",
       "    </tr>\n",
       "  </thead>\n",
       "  <tbody>\n",
       "    <tr>\n",
       "      <th>0</th>\n",
       "      <td>id</td>\n",
       "      <td>Identificador unico del siniestro</td>\n",
       "    </tr>\n",
       "    <tr>\n",
       "      <th>1</th>\n",
       "      <td>n_victimas</td>\n",
       "      <td>Cantidad de víctimas</td>\n",
       "    </tr>\n",
       "    <tr>\n",
       "      <th>2</th>\n",
       "      <td>fecha</td>\n",
       "      <td>Fecha en formato dd/mm/aaaa</td>\n",
       "    </tr>\n",
       "    <tr>\n",
       "      <th>3</th>\n",
       "      <td>aaaa</td>\n",
       "      <td>Año</td>\n",
       "    </tr>\n",
       "    <tr>\n",
       "      <th>4</th>\n",
       "      <td>mm</td>\n",
       "      <td>Mes</td>\n",
       "    </tr>\n",
       "    <tr>\n",
       "      <th>5</th>\n",
       "      <td>dd</td>\n",
       "      <td>Día del mes</td>\n",
       "    </tr>\n",
       "    <tr>\n",
       "      <th>6</th>\n",
       "      <td>hora</td>\n",
       "      <td>Hora del siniestro</td>\n",
       "    </tr>\n",
       "    <tr>\n",
       "      <th>7</th>\n",
       "      <td>hh</td>\n",
       "      <td>Franja horaria entera</td>\n",
       "    </tr>\n",
       "    <tr>\n",
       "      <th>8</th>\n",
       "      <td>lugar_del_hecho</td>\n",
       "      <td>Dirección del hecho</td>\n",
       "    </tr>\n",
       "    <tr>\n",
       "      <th>9</th>\n",
       "      <td>tipo_de_calle</td>\n",
       "      <td>Tipo de arteria. en el caso de intersecciones a nivel se clasifica según la de mayor jerarquía</td>\n",
       "    </tr>\n",
       "    <tr>\n",
       "      <th>10</th>\n",
       "      <td>calle</td>\n",
       "      <td>Nombre de la arteria donde se produjo el hecho</td>\n",
       "    </tr>\n",
       "    <tr>\n",
       "      <th>11</th>\n",
       "      <td>altura</td>\n",
       "      <td>Altura de la arteria donde se produjo el hecho</td>\n",
       "    </tr>\n",
       "    <tr>\n",
       "      <th>12</th>\n",
       "      <td>cruce</td>\n",
       "      <td>Cruce en caso de que sea una encrucijada</td>\n",
       "    </tr>\n",
       "    <tr>\n",
       "      <th>13</th>\n",
       "      <td>direccion_normalizada</td>\n",
       "      <td>Direccion en formato normalizado usig</td>\n",
       "    </tr>\n",
       "    <tr>\n",
       "      <th>14</th>\n",
       "      <td>comuna</td>\n",
       "      <td>Comuna de la ciudad (1 a 15)</td>\n",
       "    </tr>\n",
       "    <tr>\n",
       "      <th>15</th>\n",
       "      <td>xy</td>\n",
       "      <td>Geocodificación plana</td>\n",
       "    </tr>\n",
       "    <tr>\n",
       "      <th>16</th>\n",
       "      <td>pos_x</td>\n",
       "      <td>Longitud con separador punto. wgs84</td>\n",
       "    </tr>\n",
       "    <tr>\n",
       "      <th>17</th>\n",
       "      <td>pos_y</td>\n",
       "      <td>Latitud con separador punto. wgs84</td>\n",
       "    </tr>\n",
       "    <tr>\n",
       "      <th>18</th>\n",
       "      <td>participantes</td>\n",
       "      <td>Conjunción de víctima y acusado</td>\n",
       "    </tr>\n",
       "    <tr>\n",
       "      <th>19</th>\n",
       "      <td>victima</td>\n",
       "      <td>Vehículo que ocupaba quien haya fallecido a se haya lastimado a raíz del hecho, o bien peatón/a. clasificación agregada del tipo de vehículos.</td>\n",
       "    </tr>\n",
       "    <tr>\n",
       "      <th>20</th>\n",
       "      <td>acusado</td>\n",
       "      <td>Vehículo que ocupaba quien resultó acusado/a del hecho, sin implicar culpabilidad legal</td>\n",
       "    </tr>\n",
       "  </tbody>\n",
       "</table>\n",
       "</div>"
      ],
      "text/plain": [
       "   variables_y_definiciones  \\\n",
       "0                        id   \n",
       "1                n_victimas   \n",
       "2                     fecha   \n",
       "3                      aaaa   \n",
       "4                        mm   \n",
       "5                        dd   \n",
       "6                      hora   \n",
       "7                        hh   \n",
       "8           lugar_del_hecho   \n",
       "9             tipo_de_calle   \n",
       "10                    calle   \n",
       "11                   altura   \n",
       "12                    cruce   \n",
       "13    direccion_normalizada   \n",
       "14                   comuna   \n",
       "15                       xy   \n",
       "16                    pos_x   \n",
       "17                    pos_y   \n",
       "18            participantes   \n",
       "19                  victima   \n",
       "20                  acusado   \n",
       "\n",
       "                                                                                                                                       descripcion  \n",
       "0                                                                                                                Identificador unico del siniestro  \n",
       "1                                                                                                                             Cantidad de víctimas  \n",
       "2                                                                                                                      Fecha en formato dd/mm/aaaa  \n",
       "3                                                                                                                                              Año  \n",
       "4                                                                                                                                              Mes  \n",
       "5                                                                                                                                      Día del mes  \n",
       "6                                                                                                                               Hora del siniestro  \n",
       "7                                                                                                                            Franja horaria entera  \n",
       "8                                                                                                                              Dirección del hecho  \n",
       "9                                                   Tipo de arteria. en el caso de intersecciones a nivel se clasifica según la de mayor jerarquía  \n",
       "10                                                                                                  Nombre de la arteria donde se produjo el hecho  \n",
       "11                                                                                                  Altura de la arteria donde se produjo el hecho  \n",
       "12                                                                                                        Cruce en caso de que sea una encrucijada  \n",
       "13                                                                                                           Direccion en formato normalizado usig  \n",
       "14                                                                                                                    Comuna de la ciudad (1 a 15)  \n",
       "15                                                                                                                           Geocodificación plana  \n",
       "16                                                                                                             Longitud con separador punto. wgs84  \n",
       "17                                                                                                              Latitud con separador punto. wgs84  \n",
       "18                                                                                                                 Conjunción de víctima y acusado  \n",
       "19  Vehículo que ocupaba quien haya fallecido a se haya lastimado a raíz del hecho, o bien peatón/a. clasificación agregada del tipo de vehículos.  \n",
       "20                                                         Vehículo que ocupaba quien resultó acusado/a del hecho, sin implicar culpabilidad legal  "
      ]
     },
     "execution_count": 226,
     "metadata": {},
     "output_type": "execute_result"
    }
   ],
   "source": [
    "df_diccionario_fallecimientos"
   ]
  },
  {
   "cell_type": "markdown",
   "metadata": {},
   "source": [
    "Entendiendo mejor las variables que analizaremos procederemos a modificiar el tipo de alguna de ellas para luego poder estudiarlas mas facilmente."
   ]
  },
  {
   "cell_type": "code",
   "execution_count": 227,
   "metadata": {},
   "outputs": [],
   "source": [
    "df_fallecimientos = df_fallecimientos.astype({\n",
    "        'n_victimas': 'category',             \n",
    "        'aaaa': 'category', \n",
    "        'mm': 'category', \n",
    "        'dd': 'category', \n",
    "        'hh': 'category',\n",
    "        'tipo_de_calle': 'category',\n",
    "        'altura': object,\n",
    "        'comuna': 'category', \n",
    "        # 'x':float,\n",
    "        # 'y':float,\n",
    "        'participantes': 'category', \n",
    "        'victima': 'category', \n",
    "        'acusado':'category'\n",
    "    })"
   ]
  },
  {
   "cell_type": "code",
   "execution_count": 228,
   "metadata": {},
   "outputs": [],
   "source": [
    "df_fallecimientos.x = df_fallecimientos.x.replace(',','.')"
   ]
  },
  {
   "cell_type": "code",
   "execution_count": 229,
   "metadata": {},
   "outputs": [
    {
     "name": "stdout",
     "output_type": "stream",
     "text": [
      "<class 'pandas.core.frame.DataFrame'>\n",
      "RangeIndex: 696 entries, 0 to 695\n",
      "Data columns (total 21 columns):\n",
      " #   Column                 Non-Null Count  Dtype         \n",
      "---  ------                 --------------  -----         \n",
      " 0   id                     696 non-null    object        \n",
      " 1   n_victimas             696 non-null    category      \n",
      " 2   fecha                  696 non-null    datetime64[ns]\n",
      " 3   aaaa                   696 non-null    category      \n",
      " 4   mm                     696 non-null    category      \n",
      " 5   dd                     696 non-null    category      \n",
      " 6   hora                   696 non-null    object        \n",
      " 7   hh                     696 non-null    category      \n",
      " 8   lugar_del_hecho        696 non-null    object        \n",
      " 9   tipo_de_calle          696 non-null    category      \n",
      " 10  calle                  695 non-null    object        \n",
      " 11  altura                 129 non-null    object        \n",
      " 12  cruce                  525 non-null    object        \n",
      " 13  direccion_normalizada  688 non-null    object        \n",
      " 14  comuna                 696 non-null    category      \n",
      " 15  xy                     696 non-null    object        \n",
      " 16  x                      696 non-null    object        \n",
      " 17  y                      696 non-null    object        \n",
      " 18  participantes          696 non-null    category      \n",
      " 19  victima                696 non-null    category      \n",
      " 20  acusado                696 non-null    category      \n",
      "dtypes: category(10), datetime64[ns](1), object(10)\n",
      "memory usage: 72.5+ KB\n"
     ]
    }
   ],
   "source": [
    "df_fallecimientos.info()"
   ]
  },
  {
   "cell_type": "markdown",
   "metadata": {},
   "source": [
    "* Analisis de valores nulos y duplicados."
   ]
  },
  {
   "cell_type": "markdown",
   "metadata": {},
   "source": [
    "Análisis de filas duplicados.\n"
   ]
  },
  {
   "cell_type": "code",
   "execution_count": 230,
   "metadata": {},
   "outputs": [
    {
     "data": {
      "text/plain": [
       "0"
      ]
     },
     "execution_count": 230,
     "metadata": {},
     "output_type": "execute_result"
    }
   ],
   "source": [
    "# Cantidad de valores duplicados por variable\n",
    "(\n",
    "    df_fallecimientos\n",
    "    .duplicated()\n",
    "    .sum()\n",
    ")"
   ]
  },
  {
   "cell_type": "markdown",
   "metadata": {},
   "source": [
    "No tenemos filas duplicadas."
   ]
  },
  {
   "cell_type": "markdown",
   "metadata": {},
   "source": [
    "Análisis de filas con valores nulos.\n"
   ]
  },
  {
   "cell_type": "code",
   "execution_count": 231,
   "metadata": {},
   "outputs": [
    {
     "data": {
      "text/plain": [
       "id                         0\n",
       "n_victimas                 0\n",
       "fecha                      0\n",
       "aaaa                       0\n",
       "mm                         0\n",
       "dd                         0\n",
       "hora                       0\n",
       "hh                         0\n",
       "lugar_del_hecho            0\n",
       "tipo_de_calle              0\n",
       "calle                      1\n",
       "altura                   567\n",
       "cruce                    171\n",
       "direccion_normalizada      8\n",
       "comuna                     0\n",
       "xy                         0\n",
       "x                          0\n",
       "y                          0\n",
       "participantes              0\n",
       "victima                    0\n",
       "acusado                    0\n",
       "dtype: int64"
      ]
     },
     "execution_count": 231,
     "metadata": {},
     "output_type": "execute_result"
    }
   ],
   "source": [
    "# Cantidad de valores nulos por variable\n",
    "(\n",
    "    df_fallecimientos\n",
    "    .isnull()\n",
    "    .sum()\n",
    ")"
   ]
  },
  {
   "cell_type": "code",
   "execution_count": 232,
   "metadata": {},
   "outputs": [
    {
     "data": {
      "image/png": "[encoded data removed]",
      "text/plain": [
       "<Figure size 1092.5x500 with 1 Axes>"
      ]
     },
     "metadata": {},
     "output_type": "display_data"
    }
   ],
   "source": [
    "# Proporción de valores nulos por cada variable\n",
    "(\n",
    "    df_fallecimientos\n",
    "    .isnull()\n",
    "    .melt()\n",
    "    .pipe(\n",
    "        lambda df: (\n",
    "            sns.displot(\n",
    "                data=df,\n",
    "                y ='variable',\n",
    "                hue ='value',\n",
    "                multiple = 'fill',\n",
    "                aspect = 2\n",
    "            )\n",
    "        )\n",
    "    )\n",
    ")\n",
    "plt.show()"
   ]
  },
  {
   "cell_type": "code",
   "execution_count": 233,
   "metadata": {},
   "outputs": [
    {
     "data": {
      "image/png": "[encoded data removed]",
      "text/plain": [
       "<Figure size 200x200 with 2 Axes>"
      ]
     },
     "metadata": {},
     "output_type": "display_data"
    }
   ],
   "source": [
    "# visualización los valores nulos en todo el conjunto de datos\n",
    "(\n",
    "    df_fallecimientos\n",
    "    .isnull()\n",
    "    .transpose()\n",
    "    .pipe(\n",
    "        lambda df:(\n",
    "            sns.heatmap(\n",
    "                data = df\n",
    "            )\n",
    "        )\n",
    "    )\n",
    ")\n",
    "plt.show()"
   ]
  },
  {
   "cell_type": "code",
   "execution_count": 234,
   "metadata": {},
   "outputs": [
    {
     "data": {
      "image/png": "[encoded data removed]",
      "text/plain": [
       "<Figure size 200x200 with 2 Axes>"
      ]
     },
     "metadata": {},
     "output_type": "display_data"
    }
   ],
   "source": [
    "# visualización los valores nulos en las columnas 'altura' y 'cruce'\n",
    "\n",
    "(\n",
    "    df_fallecimientos[['altura','cruce']]\n",
    "    .isnull()\n",
    "    .transpose()\n",
    "    .pipe(\n",
    "        lambda df:(\n",
    "            sns.heatmap(\n",
    "                data = df\n",
    "            )\n",
    "        )\n",
    "    )\n",
    ")\n",
    "\n",
    "plt.show()"
   ]
  },
  {
   "cell_type": "code",
   "execution_count": 235,
   "metadata": {},
   "outputs": [
    {
     "data": {
      "text/plain": [
       "42"
      ]
     },
     "execution_count": 235,
     "metadata": {},
     "output_type": "execute_result"
    }
   ],
   "source": [
    "# Cantidad de filas que poseen valores nulos en la columna 'altura' y en la columna'cruce'.\n",
    "df_fallecimientos[(df_fallecimientos['altura'].isna()) & (df_fallecimientos['cruce'].isna())].shape[0]\n"
   ]
  },
  {
   "cell_type": "code",
   "execution_count": 236,
   "metadata": {},
   "outputs": [
    {
     "data": {
      "text/plain": [
       "0"
      ]
     },
     "execution_count": 236,
     "metadata": {},
     "output_type": "execute_result"
    }
   ],
   "source": [
    "# Cantidad de filas que poseen datos no nulos en las columnas 'altura' y 'cruce'\n",
    "df_fallecimientos[(~df_fallecimientos['altura'].isna()) & (~df_fallecimientos['cruce'].isna())].shape[0]\n"
   ]
  },
  {
   "cell_type": "markdown",
   "metadata": {},
   "source": [
    "Las columnas con mas valores faltantes son 'altura' y 'cruce'. \n",
    "Hemos notado que, en el caso de producirse el siniestro en una encrucijada, tendremos un dato en la columna cruce y un valor nulo en la columna altura. Si el siniestro se produce en una altura específica de la arteria tendremos un dato en la columna 'altura' y un valor nulo en 'cruce'.\n",
    "Solo 42 filas no poseen valores en ambas columnas."
   ]
  },
  {
   "cell_type": "code",
   "execution_count": 237,
   "metadata": {},
   "outputs": [],
   "source": [
    "# Filas que no contienen datos en las columnas 'altura' y 'cruce'\n",
    "nan_altura_y_calle = df_fallecimientos[(df_fallecimientos['altura'].isna()) & (df_fallecimientos['cruce'].isna())]"
   ]
  },
  {
   "cell_type": "code",
   "execution_count": 238,
   "metadata": {},
   "outputs": [
    {
     "data": {
      "text/plain": [
       "(42, 21)"
      ]
     },
     "execution_count": 238,
     "metadata": {},
     "output_type": "execute_result"
    }
   ],
   "source": [
    "nan_altura_y_calle.shape"
   ]
  },
  {
   "cell_type": "code",
   "execution_count": 239,
   "metadata": {},
   "outputs": [
    {
     "data": {
      "text/plain": [
       "AUTOPISTA    39\n",
       "CALLE         2\n",
       "GRAL PAZ      1\n",
       "AVENIDA       0\n",
       "Name: tipo_de_calle, dtype: int64"
      ]
     },
     "execution_count": 239,
     "metadata": {},
     "output_type": "execute_result"
    }
   ],
   "source": [
    "nan_altura_y_calle.tipo_de_calle.value_counts()"
   ]
  },
  {
   "cell_type": "markdown",
   "metadata": {},
   "source": [
    "Tenemos 42 filas que no contienen datos en las columnas 'altura' y 'cruce'. \n",
    "- 40 Filas corresponden a las arterias clasificadas como autopista. \n",
    "- 1 corresponde a la avenida General Paz que en ciertos tramos posee carácterísticas de autopista.\n",
    "- y 2 corresponden a las arterias clasificadas como calle."
   ]
  },
  {
   "cell_type": "markdown",
   "metadata": {},
   "source": [
    "Veamos esas dos calles."
   ]
  },
  {
   "cell_type": "code",
   "execution_count": 240,
   "metadata": {},
   "outputs": [
    {
     "data": {
      "text/html": [
       "<div>\n",
       "<style scoped>\n",
       "    .dataframe tbody tr th:only-of-type {\n",
       "        vertical-align: middle;\n",
       "    }\n",
       "\n",
       "    .dataframe tbody tr th {\n",
       "        vertical-align: top;\n",
       "    }\n",
       "\n",
       "    .dataframe thead th {\n",
       "        text-align: right;\n",
       "    }\n",
       "</style>\n",
       "<table border=\"1\" class=\"dataframe\">\n",
       "  <thead>\n",
       "    <tr style=\"text-align: right;\">\n",
       "      <th></th>\n",
       "      <th>id</th>\n",
       "      <th>n_victimas</th>\n",
       "      <th>fecha</th>\n",
       "      <th>aaaa</th>\n",
       "      <th>mm</th>\n",
       "      <th>dd</th>\n",
       "      <th>hora</th>\n",
       "      <th>hh</th>\n",
       "      <th>lugar_del_hecho</th>\n",
       "      <th>tipo_de_calle</th>\n",
       "      <th>calle</th>\n",
       "      <th>altura</th>\n",
       "      <th>cruce</th>\n",
       "      <th>direccion_normalizada</th>\n",
       "      <th>comuna</th>\n",
       "      <th>xy</th>\n",
       "      <th>x</th>\n",
       "      <th>y</th>\n",
       "      <th>participantes</th>\n",
       "      <th>victima</th>\n",
       "      <th>acusado</th>\n",
       "    </tr>\n",
       "  </thead>\n",
       "  <tbody>\n",
       "    <tr>\n",
       "      <th>119</th>\n",
       "      <td>2016-0151</td>\n",
       "      <td>1</td>\n",
       "      <td>2016-11-18</td>\n",
       "      <td>2016</td>\n",
       "      <td>11</td>\n",
       "      <td>18</td>\n",
       "      <td>20:35:00</td>\n",
       "      <td>20</td>\n",
       "      <td>SD</td>\n",
       "      <td>CALLE</td>\n",
       "      <td>NaN</td>\n",
       "      <td>NaN</td>\n",
       "      <td>NaN</td>\n",
       "      <td>NaN</td>\n",
       "      <td>0</td>\n",
       "      <td>Point (. .)</td>\n",
       "      <td>.</td>\n",
       "      <td>.</td>\n",
       "      <td>PEATON-SD</td>\n",
       "      <td>PEATON</td>\n",
       "      <td>SD</td>\n",
       "    </tr>\n",
       "    <tr>\n",
       "      <th>559</th>\n",
       "      <td>2020-0039</td>\n",
       "      <td>1</td>\n",
       "      <td>2020-09-01</td>\n",
       "      <td>2020</td>\n",
       "      <td>9</td>\n",
       "      <td>1</td>\n",
       "      <td>19:17:42</td>\n",
       "      <td>19</td>\n",
       "      <td>MURGUIONDO 2700</td>\n",
       "      <td>CALLE</td>\n",
       "      <td>MURGUIONDO</td>\n",
       "      <td>NaN</td>\n",
       "      <td>NaN</td>\n",
       "      <td>MURGUIONDO</td>\n",
       "      <td>9</td>\n",
       "      <td>Point (. .)</td>\n",
       "      <td>.</td>\n",
       "      <td>.</td>\n",
       "      <td>PEATON-CARGAS</td>\n",
       "      <td>PEATON</td>\n",
       "      <td>CARGAS</td>\n",
       "    </tr>\n",
       "  </tbody>\n",
       "</table>\n",
       "</div>"
      ],
      "text/plain": [
       "            id n_victimas      fecha  aaaa  mm  dd      hora  hh  \\\n",
       "119  2016-0151          1 2016-11-18  2016  11  18  20:35:00  20   \n",
       "559  2020-0039          1 2020-09-01  2020   9   1  19:17:42  19   \n",
       "\n",
       "     lugar_del_hecho tipo_de_calle       calle altura cruce  \\\n",
       "119               SD         CALLE         NaN    NaN   NaN   \n",
       "559  MURGUIONDO 2700         CALLE  MURGUIONDO    NaN   NaN   \n",
       "\n",
       "    direccion_normalizada comuna           xy  x  y  participantes victima  \\\n",
       "119                   NaN      0  Point (. .)  .  .      PEATON-SD  PEATON   \n",
       "559            MURGUIONDO      9  Point (. .)  .  .  PEATON-CARGAS  PEATON   \n",
       "\n",
       "    acusado  \n",
       "119      SD  \n",
       "559  CARGAS  "
      ]
     },
     "execution_count": 240,
     "metadata": {},
     "output_type": "execute_result"
    }
   ],
   "source": [
    "nan_altura_y_calle[nan_altura_y_calle.tipo_de_calle == 'CALLE']"
   ]
  },
  {
   "cell_type": "markdown",
   "metadata": {},
   "source": [
    "Tenemos una fila con muchos datos faltantes, de la cual solo podemos extraer los datos de la fecha y hora del siniestro, la cantidad de victimas y la caracteristeica de esta.\n",
    "Y la otra fila podemos extraer información de la ubicación de la columna lugar_del_hecho. Completaremos ese dato en la columna altura."
   ]
  },
  {
   "cell_type": "code",
   "execution_count": 241,
   "metadata": {},
   "outputs": [],
   "source": [
    "# Completamos el valor faltante en la fila 559\n",
    "df_fallecimientos.iloc[559,11] = 2700"
   ]
  },
  {
   "cell_type": "markdown",
   "metadata": {},
   "source": [
    "# Esto no se si dejarlo o sacarlo \n",
    "abajo"
   ]
  },
  {
   "cell_type": "code",
   "execution_count": 242,
   "metadata": {},
   "outputs": [],
   "source": [
    "# Cramos la columna ubicación que concatena los datos de las columnas altura y cruce\n",
    "df_fallecimientos['ubicacion'] = df_fallecimientos['altura'].combine_first(df_fallecimientos['cruce'])\n"
   ]
  },
  {
   "cell_type": "code",
   "execution_count": 243,
   "metadata": {},
   "outputs": [],
   "source": [
    "df_fallecimientos['ubicacion'].fillna(df_fallecimientos.lugar_del_hecho,inplace=True)"
   ]
  },
  {
   "cell_type": "code",
   "execution_count": 244,
   "metadata": {},
   "outputs": [
    {
     "data": {
      "text/html": [
       "<div>\n",
       "<style scoped>\n",
       "    .dataframe tbody tr th:only-of-type {\n",
       "        vertical-align: middle;\n",
       "    }\n",
       "\n",
       "    .dataframe tbody tr th {\n",
       "        vertical-align: top;\n",
       "    }\n",
       "\n",
       "    .dataframe thead th {\n",
       "        text-align: right;\n",
       "    }\n",
       "</style>\n",
       "<table border=\"1\" class=\"dataframe\">\n",
       "  <thead>\n",
       "    <tr style=\"text-align: right;\">\n",
       "      <th></th>\n",
       "      <th>id</th>\n",
       "      <th>n_victimas</th>\n",
       "      <th>fecha</th>\n",
       "      <th>aaaa</th>\n",
       "      <th>mm</th>\n",
       "      <th>dd</th>\n",
       "      <th>hora</th>\n",
       "      <th>hh</th>\n",
       "      <th>lugar_del_hecho</th>\n",
       "      <th>tipo_de_calle</th>\n",
       "      <th>calle</th>\n",
       "      <th>altura</th>\n",
       "      <th>cruce</th>\n",
       "      <th>direccion_normalizada</th>\n",
       "      <th>comuna</th>\n",
       "      <th>xy</th>\n",
       "      <th>x</th>\n",
       "      <th>y</th>\n",
       "      <th>participantes</th>\n",
       "      <th>victima</th>\n",
       "      <th>acusado</th>\n",
       "      <th>ubicacion</th>\n",
       "    </tr>\n",
       "  </thead>\n",
       "  <tbody>\n",
       "  </tbody>\n",
       "</table>\n",
       "</div>"
      ],
      "text/plain": [
       "Empty DataFrame\n",
       "Columns: [id, n_victimas, fecha, aaaa, mm, dd, hora, hh, lugar_del_hecho, tipo_de_calle, calle, altura, cruce, direccion_normalizada, comuna, xy, x, y, participantes, victima, acusado, ubicacion]\n",
       "Index: []"
      ]
     },
     "execution_count": 244,
     "metadata": {},
     "output_type": "execute_result"
    }
   ],
   "source": [
    "df_fallecimientos[df_fallecimientos.ubicacion.isna()] # No tenemos datos nulos "
   ]
  },
  {
   "cell_type": "code",
   "execution_count": 245,
   "metadata": {},
   "outputs": [],
   "source": [
    "# df_fallecimientos"
   ]
  },
  {
   "cell_type": "code",
   "execution_count": 246,
   "metadata": {},
   "outputs": [
    {
     "data": {
      "image/png": "[encoded data removed]",
      "text/plain": [
       "<Figure size 200x200 with 2 Axes>"
      ]
     },
     "metadata": {},
     "output_type": "display_data"
    }
   ],
   "source": [
    "# visualización los valores nulos en todo el conjunto de datos\n",
    "(\n",
    "    df_fallecimientos\n",
    "    .isnull()\n",
    "    .transpose()\n",
    "    .pipe(\n",
    "        lambda df:(\n",
    "            sns.heatmap(\n",
    "                data = df\n",
    "            )\n",
    "        )\n",
    "    )\n",
    ")\n",
    "plt.show()"
   ]
  },
  {
   "cell_type": "markdown",
   "metadata": {},
   "source": [
    "Podemos ver que ya no tenemos valores faltantes con respecto a la ubicación relativa del hecho"
   ]
  },
  {
   "cell_type": "markdown",
   "metadata": {},
   "source": [
    "* Analisis de columnas sin datos (SD)"
   ]
  },
  {
   "cell_type": "code",
   "execution_count": 247,
   "metadata": {},
   "outputs": [
    {
     "data": {
      "text/plain": [
       "id                        0\n",
       "n_victimas                0\n",
       "fecha                     0\n",
       "aaaa                      0\n",
       "mm                        0\n",
       "dd                        0\n",
       "hora                      1\n",
       "hh                        1\n",
       "lugar_del_hecho           1\n",
       "tipo_de_calle             0\n",
       "calle                     0\n",
       "altura                    0\n",
       "cruce                     0\n",
       "direccion_normalizada     0\n",
       "comuna                    0\n",
       "xy                        0\n",
       "x                         0\n",
       "y                         0\n",
       "participantes             0\n",
       "victima                   9\n",
       "acusado                  23\n",
       "ubicacion                 1\n",
       "dtype: int64"
      ]
     },
     "execution_count": 247,
     "metadata": {},
     "output_type": "execute_result"
    }
   ],
   "source": [
    "(df_fallecimientos == 'SD').sum()"
   ]
  },
  {
   "cell_type": "code",
   "execution_count": 248,
   "metadata": {},
   "outputs": [
    {
     "data": {
      "text/html": [
       "<div>\n",
       "<style scoped>\n",
       "    .dataframe tbody tr th:only-of-type {\n",
       "        vertical-align: middle;\n",
       "    }\n",
       "\n",
       "    .dataframe tbody tr th {\n",
       "        vertical-align: top;\n",
       "    }\n",
       "\n",
       "    .dataframe thead th {\n",
       "        text-align: right;\n",
       "    }\n",
       "</style>\n",
       "<table border=\"1\" class=\"dataframe\">\n",
       "  <thead>\n",
       "    <tr style=\"text-align: right;\">\n",
       "      <th></th>\n",
       "      <th>id</th>\n",
       "      <th>n_victimas</th>\n",
       "      <th>fecha</th>\n",
       "      <th>aaaa</th>\n",
       "      <th>mm</th>\n",
       "      <th>dd</th>\n",
       "      <th>hora</th>\n",
       "      <th>hh</th>\n",
       "      <th>lugar_del_hecho</th>\n",
       "      <th>tipo_de_calle</th>\n",
       "      <th>calle</th>\n",
       "      <th>altura</th>\n",
       "      <th>cruce</th>\n",
       "      <th>direccion_normalizada</th>\n",
       "      <th>comuna</th>\n",
       "      <th>xy</th>\n",
       "      <th>x</th>\n",
       "      <th>y</th>\n",
       "      <th>participantes</th>\n",
       "      <th>victima</th>\n",
       "      <th>acusado</th>\n",
       "      <th>ubicacion</th>\n",
       "    </tr>\n",
       "  </thead>\n",
       "  <tbody>\n",
       "    <tr>\n",
       "      <th>518</th>\n",
       "      <td>2019-0103</td>\n",
       "      <td>1</td>\n",
       "      <td>2019-12-18</td>\n",
       "      <td>2019</td>\n",
       "      <td>12</td>\n",
       "      <td>18</td>\n",
       "      <td>SD</td>\n",
       "      <td>SD</td>\n",
       "      <td>PAZ, GRAL. AV. Y GRIVEO</td>\n",
       "      <td>GRAL PAZ</td>\n",
       "      <td>PAZ, GRAL. AV.</td>\n",
       "      <td>NaN</td>\n",
       "      <td>GRIVEO</td>\n",
       "      <td>PAZ, GRAL. AV. y GRIVEO</td>\n",
       "      <td>11</td>\n",
       "      <td>Point (94643.11254058 103831.57115061)</td>\n",
       "      <td>-58.52169422</td>\n",
       "      <td>-34.59471640</td>\n",
       "      <td>MOTO-MOTO</td>\n",
       "      <td>MOTO</td>\n",
       "      <td>MOTO</td>\n",
       "      <td>GRIVEO</td>\n",
       "    </tr>\n",
       "  </tbody>\n",
       "</table>\n",
       "</div>"
      ],
      "text/plain": [
       "            id n_victimas      fecha  aaaa  mm  dd hora  hh  \\\n",
       "518  2019-0103          1 2019-12-18  2019  12  18   SD  SD   \n",
       "\n",
       "             lugar_del_hecho tipo_de_calle           calle altura   cruce  \\\n",
       "518  PAZ, GRAL. AV. Y GRIVEO      GRAL PAZ  PAZ, GRAL. AV.    NaN  GRIVEO   \n",
       "\n",
       "       direccion_normalizada comuna                                      xy  \\\n",
       "518  PAZ, GRAL. AV. y GRIVEO     11  Point (94643.11254058 103831.57115061)   \n",
       "\n",
       "                x             y participantes victima acusado ubicacion  \n",
       "518  -58.52169422  -34.59471640     MOTO-MOTO    MOTO    MOTO    GRIVEO  "
      ]
     },
     "execution_count": 248,
     "metadata": {},
     "output_type": "execute_result"
    }
   ],
   "source": [
    "df_fallecimientos[df_fallecimientos.hora == 'SD']"
   ]
  },
  {
   "cell_type": "code",
   "execution_count": 249,
   "metadata": {},
   "outputs": [
    {
     "data": {
      "text/html": [
       "<div>\n",
       "<style scoped>\n",
       "    .dataframe tbody tr th:only-of-type {\n",
       "        vertical-align: middle;\n",
       "    }\n",
       "\n",
       "    .dataframe tbody tr th {\n",
       "        vertical-align: top;\n",
       "    }\n",
       "\n",
       "    .dataframe thead th {\n",
       "        text-align: right;\n",
       "    }\n",
       "</style>\n",
       "<table border=\"1\" class=\"dataframe\">\n",
       "  <thead>\n",
       "    <tr style=\"text-align: right;\">\n",
       "      <th></th>\n",
       "      <th>id</th>\n",
       "      <th>n_victimas</th>\n",
       "      <th>fecha</th>\n",
       "      <th>aaaa</th>\n",
       "      <th>mm</th>\n",
       "      <th>dd</th>\n",
       "      <th>hora</th>\n",
       "      <th>hh</th>\n",
       "      <th>lugar_del_hecho</th>\n",
       "      <th>tipo_de_calle</th>\n",
       "      <th>calle</th>\n",
       "      <th>altura</th>\n",
       "      <th>cruce</th>\n",
       "      <th>direccion_normalizada</th>\n",
       "      <th>comuna</th>\n",
       "      <th>xy</th>\n",
       "      <th>x</th>\n",
       "      <th>y</th>\n",
       "      <th>participantes</th>\n",
       "      <th>victima</th>\n",
       "      <th>acusado</th>\n",
       "      <th>ubicacion</th>\n",
       "    </tr>\n",
       "  </thead>\n",
       "  <tbody>\n",
       "    <tr>\n",
       "      <th>119</th>\n",
       "      <td>2016-0151</td>\n",
       "      <td>1</td>\n",
       "      <td>2016-11-18</td>\n",
       "      <td>2016</td>\n",
       "      <td>11</td>\n",
       "      <td>18</td>\n",
       "      <td>20:35:00</td>\n",
       "      <td>20</td>\n",
       "      <td>SD</td>\n",
       "      <td>CALLE</td>\n",
       "      <td>NaN</td>\n",
       "      <td>NaN</td>\n",
       "      <td>NaN</td>\n",
       "      <td>NaN</td>\n",
       "      <td>0</td>\n",
       "      <td>Point (. .)</td>\n",
       "      <td>.</td>\n",
       "      <td>.</td>\n",
       "      <td>PEATON-SD</td>\n",
       "      <td>PEATON</td>\n",
       "      <td>SD</td>\n",
       "      <td>SD</td>\n",
       "    </tr>\n",
       "  </tbody>\n",
       "</table>\n",
       "</div>"
      ],
      "text/plain": [
       "            id n_victimas      fecha  aaaa  mm  dd      hora  hh  \\\n",
       "119  2016-0151          1 2016-11-18  2016  11  18  20:35:00  20   \n",
       "\n",
       "    lugar_del_hecho tipo_de_calle calle altura cruce direccion_normalizada  \\\n",
       "119              SD         CALLE   NaN    NaN   NaN                   NaN   \n",
       "\n",
       "    comuna           xy  x  y participantes victima acusado ubicacion  \n",
       "119      0  Point (. .)  .  .     PEATON-SD  PEATON      SD        SD  "
      ]
     },
     "execution_count": 249,
     "metadata": {},
     "output_type": "execute_result"
    }
   ],
   "source": [
    "df_fallecimientos[df_fallecimientos.lugar_del_hecho == 'SD']"
   ]
  },
  {
   "cell_type": "code",
   "execution_count": 250,
   "metadata": {},
   "outputs": [
    {
     "data": {
      "text/plain": [
       "27"
      ]
     },
     "execution_count": 250,
     "metadata": {},
     "output_type": "execute_result"
    }
   ],
   "source": [
    "df_fallecimientos[(df_fallecimientos.victima == 'SD') | ((df_fallecimientos.acusado == 'SD') )].shape[0]"
   ]
  },
  {
   "cell_type": "markdown",
   "metadata": {},
   "source": [
    "Tenemos 1 al que le falta la hora, 1 al que le falta el lugar y 27 a los que les falta la caracteristica de los implicados en el siniestro."
   ]
  },
  {
   "cell_type": "markdown",
   "metadata": {},
   "source": [
    "* Análisis de los datos segun su tipo"
   ]
  },
  {
   "cell_type": "markdown",
   "metadata": {},
   "source": [
    "Categóricos"
   ]
  },
  {
   "cell_type": "code",
   "execution_count": 278,
   "metadata": {},
   "outputs": [
    {
     "data": {
      "text/html": [
       "<div>\n",
       "<style scoped>\n",
       "    .dataframe tbody tr th:only-of-type {\n",
       "        vertical-align: middle;\n",
       "    }\n",
       "\n",
       "    .dataframe tbody tr th {\n",
       "        vertical-align: top;\n",
       "    }\n",
       "\n",
       "    .dataframe thead th {\n",
       "        text-align: right;\n",
       "    }\n",
       "</style>\n",
       "<table border=\"1\" class=\"dataframe\">\n",
       "  <thead>\n",
       "    <tr style=\"text-align: right;\">\n",
       "      <th></th>\n",
       "      <th>n_victimas</th>\n",
       "      <th>aaaa</th>\n",
       "      <th>mm</th>\n",
       "      <th>dd</th>\n",
       "      <th>hh</th>\n",
       "      <th>tipo_de_calle</th>\n",
       "      <th>comuna</th>\n",
       "      <th>participantes</th>\n",
       "      <th>victima</th>\n",
       "      <th>acusado</th>\n",
       "    </tr>\n",
       "  </thead>\n",
       "  <tbody>\n",
       "    <tr>\n",
       "      <th>count</th>\n",
       "      <td>696</td>\n",
       "      <td>696</td>\n",
       "      <td>696</td>\n",
       "      <td>696</td>\n",
       "      <td>696</td>\n",
       "      <td>696</td>\n",
       "      <td>696</td>\n",
       "      <td>696</td>\n",
       "      <td>696</td>\n",
       "      <td>696</td>\n",
       "    </tr>\n",
       "    <tr>\n",
       "      <th>unique</th>\n",
       "      <td>3</td>\n",
       "      <td>6</td>\n",
       "      <td>12</td>\n",
       "      <td>31</td>\n",
       "      <td>25</td>\n",
       "      <td>4</td>\n",
       "      <td>16</td>\n",
       "      <td>41</td>\n",
       "      <td>10</td>\n",
       "      <td>10</td>\n",
       "    </tr>\n",
       "    <tr>\n",
       "      <th>top</th>\n",
       "      <td>1</td>\n",
       "      <td>2016</td>\n",
       "      <td>12</td>\n",
       "      <td>20</td>\n",
       "      <td>7</td>\n",
       "      <td>AVENIDA</td>\n",
       "      <td>1</td>\n",
       "      <td>PEATON-PASAJEROS</td>\n",
       "      <td>MOTO</td>\n",
       "      <td>AUTO</td>\n",
       "    </tr>\n",
       "    <tr>\n",
       "      <th>freq</th>\n",
       "      <td>676</td>\n",
       "      <td>144</td>\n",
       "      <td>78</td>\n",
       "      <td>31</td>\n",
       "      <td>41</td>\n",
       "      <td>429</td>\n",
       "      <td>90</td>\n",
       "      <td>105</td>\n",
       "      <td>295</td>\n",
       "      <td>204</td>\n",
       "    </tr>\n",
       "  </tbody>\n",
       "</table>\n",
       "</div>"
      ],
      "text/plain": [
       "        n_victimas  aaaa   mm   dd   hh tipo_de_calle  comuna  \\\n",
       "count          696   696  696  696  696           696     696   \n",
       "unique           3     6   12   31   25             4      16   \n",
       "top              1  2016   12   20    7       AVENIDA       1   \n",
       "freq           676   144   78   31   41           429      90   \n",
       "\n",
       "           participantes victima acusado  \n",
       "count                696     696     696  \n",
       "unique                41      10      10  \n",
       "top     PEATON-PASAJEROS    MOTO    AUTO  \n",
       "freq                 105     295     204  "
      ]
     },
     "execution_count": 278,
     "metadata": {},
     "output_type": "execute_result"
    }
   ],
   "source": [
    "df_fallecimientos.describe(include='category')"
   ]
  },
  {
   "cell_type": "markdown",
   "metadata": {},
   "source": [
    "Podemos ver:\n",
    "\n",
    "* n_victimas: Los fallecimientos de mas de 1 victima son atípicos.\n",
    "* Años (aaaa): Poseemos 6 valores y el año con mayor cantidad de siniestros fue el 2016 con 144 siniestros.\n",
    "* Meses (mm): De los 12 meses del año, diciembre (12) fue el que registró mayor cantidad de siniestros, 78 en total.\n",
    "* Día (dd): Si consideramos los dias del mes, se registraron mayor cantidad de siniestros el dia número 20.\n",
    "* Hora (hh): La mayoría de los siniestros ocurrieron entre las 7 y las 7.59 am. \n",
    "* Tipo de calle (tipo_de_calle): La mayor cantidad de siniestros se produjeron en avenidas.(429)\n",
    "* Comuna: La comuna 1 es la que tuvo mayor frecuencia de accidentes.\n",
    "* Participantes: La mayor cantidad de siniestros se produjeron entre peatomes y transporte de pasajeros.\n",
    "* Victima: La victima mas frecuente fueron los motociclistas\n",
    "* Acusado: Los autos son los que poseen la mayor participación en siniestros."
   ]
  },
  {
   "cell_type": "markdown",
   "metadata": {},
   "source": [
    "Objetos"
   ]
  },
  {
   "cell_type": "code",
   "execution_count": 252,
   "metadata": {},
   "outputs": [
    {
     "data": {
      "text/html": [
       "<div>\n",
       "<style scoped>\n",
       "    .dataframe tbody tr th:only-of-type {\n",
       "        vertical-align: middle;\n",
       "    }\n",
       "\n",
       "    .dataframe tbody tr th {\n",
       "        vertical-align: top;\n",
       "    }\n",
       "\n",
       "    .dataframe thead th {\n",
       "        text-align: right;\n",
       "    }\n",
       "</style>\n",
       "<table border=\"1\" class=\"dataframe\">\n",
       "  <thead>\n",
       "    <tr style=\"text-align: right;\">\n",
       "      <th></th>\n",
       "      <th>id</th>\n",
       "      <th>hora</th>\n",
       "      <th>lugar_del_hecho</th>\n",
       "      <th>calle</th>\n",
       "      <th>altura</th>\n",
       "      <th>cruce</th>\n",
       "      <th>direccion_normalizada</th>\n",
       "      <th>xy</th>\n",
       "      <th>x</th>\n",
       "      <th>y</th>\n",
       "      <th>ubicacion</th>\n",
       "    </tr>\n",
       "  </thead>\n",
       "  <tbody>\n",
       "    <tr>\n",
       "      <th>count</th>\n",
       "      <td>696</td>\n",
       "      <td>696</td>\n",
       "      <td>696</td>\n",
       "      <td>695</td>\n",
       "      <td>130.0</td>\n",
       "      <td>525</td>\n",
       "      <td>688</td>\n",
       "      <td>696</td>\n",
       "      <td>696</td>\n",
       "      <td>696</td>\n",
       "      <td>696</td>\n",
       "    </tr>\n",
       "    <tr>\n",
       "      <th>unique</th>\n",
       "      <td>696</td>\n",
       "      <td>375</td>\n",
       "      <td>683</td>\n",
       "      <td>279</td>\n",
       "      <td>127.0</td>\n",
       "      <td>317</td>\n",
       "      <td>635</td>\n",
       "      <td>606</td>\n",
       "      <td>605</td>\n",
       "      <td>605</td>\n",
       "      <td>484</td>\n",
       "    </tr>\n",
       "    <tr>\n",
       "      <th>top</th>\n",
       "      <td>2016-0001</td>\n",
       "      <td>16:00:00</td>\n",
       "      <td>AV 27 DE FEBRERO Y AV ESCALADA</td>\n",
       "      <td>PAZ, GRAL. AV.</td>\n",
       "      <td>901.0</td>\n",
       "      <td>PAZ, GRAL. AV.</td>\n",
       "      <td>27 DE FEBRERO AV. y ESCALADA AV.</td>\n",
       "      <td>Point (. .)</td>\n",
       "      <td>.</td>\n",
       "      <td>.</td>\n",
       "      <td>PAZ, GRAL. AV.</td>\n",
       "    </tr>\n",
       "    <tr>\n",
       "      <th>freq</th>\n",
       "      <td>1</td>\n",
       "      <td>10</td>\n",
       "      <td>4</td>\n",
       "      <td>57</td>\n",
       "      <td>2.0</td>\n",
       "      <td>14</td>\n",
       "      <td>5</td>\n",
       "      <td>14</td>\n",
       "      <td>12</td>\n",
       "      <td>12</td>\n",
       "      <td>14</td>\n",
       "    </tr>\n",
       "  </tbody>\n",
       "</table>\n",
       "</div>"
      ],
      "text/plain": [
       "               id      hora                 lugar_del_hecho           calle  \\\n",
       "count         696       696                             696             695   \n",
       "unique        696       375                             683             279   \n",
       "top     2016-0001  16:00:00  AV 27 DE FEBRERO Y AV ESCALADA  PAZ, GRAL. AV.   \n",
       "freq            1        10                               4              57   \n",
       "\n",
       "        altura           cruce             direccion_normalizada           xy  \\\n",
       "count    130.0             525                               688          696   \n",
       "unique   127.0             317                               635          606   \n",
       "top      901.0  PAZ, GRAL. AV.  27 DE FEBRERO AV. y ESCALADA AV.  Point (. .)   \n",
       "freq       2.0              14                                 5           14   \n",
       "\n",
       "          x    y       ubicacion  \n",
       "count   696  696             696  \n",
       "unique  605  605             484  \n",
       "top       .    .  PAZ, GRAL. AV.  \n",
       "freq     12   12              14  "
      ]
     },
     "execution_count": 252,
     "metadata": {},
     "output_type": "execute_result"
    }
   ],
   "source": [
    "df_fallecimientos.describe(include=object)"
   ]
  },
  {
   "cell_type": "markdown",
   "metadata": {},
   "source": [
    "Podemos ver que la mayor cantidad de siniestros se produjeron en la avenida General Paz. Y podemos ver que 10 ocurrieron a las 16hs."
   ]
  },
  {
   "cell_type": "markdown",
   "metadata": {},
   "source": [
    "* Análisis de la columna 'participantes'"
   ]
  },
  {
   "cell_type": "code",
   "execution_count": 253,
   "metadata": {},
   "outputs": [
    {
     "data": {
      "text/plain": [
       "['MOTO-AUTO',\n",
       " 'AUTO-PASAJEROS',\n",
       " 'MOTO-SD',\n",
       " 'MOTO-PASAJEROS',\n",
       " 'MOTO-OBJETO FIJO',\n",
       " 'MOTO-CARGAS',\n",
       " 'PEATON-AUTO',\n",
       " 'PEATON-MOTO',\n",
       " 'PEATON-PASAJEROS',\n",
       " 'AUTO-AUTO',\n",
       " 'AUTO-OBJETO FIJO',\n",
       " 'PEATON-CARGAS',\n",
       " 'MOTO-MOTO',\n",
       " 'MULTIPLE',\n",
       " 'SD-SD',\n",
       " 'AUTO-CARGAS',\n",
       " 'AUTO-SD',\n",
       " 'MOTO-MOVIL',\n",
       " 'CARGAS-CARGAS',\n",
       " 'PEATON-SD',\n",
       " 'BICICLETA-CARGAS',\n",
       " 'SD-CARGAS',\n",
       " 'BICICLETA-PASAJEROS',\n",
       " 'PASAJEROS-PASAJEROS',\n",
       " 'MOVIL-PASAJEROS',\n",
       " 'CARGAS-OBJETO FIJO',\n",
       " 'PEATON-BICICLETA',\n",
       " 'SD-AUTO',\n",
       " 'CARGAS-AUTO',\n",
       " 'BICICLETA-AUTO',\n",
       " 'MOTO-BICICLETA',\n",
       " 'SD-MOTO',\n",
       " 'MOVIL-CARGAS',\n",
       " 'PASAJEROS-AUTO',\n",
       " 'AUTO-MOVIL',\n",
       " 'CARGAS-PASAJEROS',\n",
       " 'BICICLETA-TREN',\n",
       " 'BICICLETA-OTRO',\n",
       " 'MOTO-OTRO',\n",
       " 'PEATON_MOTO-MOTO',\n",
       " 'PASAJEROS-SD']"
      ]
     },
     "execution_count": 253,
     "metadata": {},
     "output_type": "execute_result"
    }
   ],
   "source": [
    "lista_participantes = df_fallecimientos.participantes.unique().tolist()\n",
    "lista_participantes"
   ]
  },
  {
   "cell_type": "code",
   "execution_count": 254,
   "metadata": {},
   "outputs": [
    {
     "name": "stdout",
     "output_type": "stream",
     "text": [
      "Combinaciones repetidas\n",
      "['AUTO-PASAJEROS', 'PASAJEROS-AUTO']\n",
      "['MOTO-SD', 'SD-MOTO']\n",
      "['AUTO-CARGAS', 'CARGAS-AUTO']\n",
      "['AUTO-SD', 'SD-AUTO']\n"
     ]
    }
   ],
   "source": [
    "def obtener_codigo_combinacion(combinacion):\n",
    "    tipos_ordenados = '-'.join(sorted(combinacion.split('-')))\n",
    "    return tipos_ordenados\n",
    "\n",
    "codigos_combinaciones = {} # Diccionario para almacenar códigos y sus combinaciones\n",
    "\n",
    "for combinacion in lista_participantes:\n",
    "    codigo = obtener_codigo_combinacion(combinacion)\n",
    "    if codigo not in codigos_combinaciones:\n",
    "        codigos_combinaciones[codigo] = [combinacion]\n",
    "    else:\n",
    "        codigos_combinaciones[codigo].append(combinacion)\n",
    "\n",
    "# Filtramos los códigos que hacen referencia a la misma pareja de tipos de vehículos\n",
    "candidatos_repetidos = {codigo: combinaciones for codigo, combinaciones in codigos_combinaciones.items() if len(combinaciones) > 1}\n",
    "\n",
    "print(f'Combinaciones repetidas')\n",
    "\n",
    "# combinaciones repetidas\n",
    "for codigo, combinaciones_repetidas in candidatos_repetidos.items():\n",
    "    print(f'{combinaciones_repetidas}')\n"
   ]
  },
  {
   "cell_type": "markdown",
   "metadata": {},
   "source": [
    "Podemos ver que en la columna participantes tenemos combinaciones diferentes que hacen referencia a una misma pareja de vehículos. Tendremos esto en cuenta para analizar esta columna."
   ]
  },
  {
   "cell_type": "markdown",
   "metadata": {},
   "source": [
    "-----"
   ]
  },
  {
   "cell_type": "markdown",
   "metadata": {},
   "source": [
    "# Cantidad de victimas totales a lo largo del tiempo y por año"
   ]
  },
  {
   "cell_type": "code",
   "execution_count": 255,
   "metadata": {},
   "outputs": [
    {
     "name": "stdout",
     "output_type": "stream",
     "text": [
      "frecuencia de la cantidad de victimas fallecidas en accidentes viales entre 2016 y 2021\n",
      "  cant_victimas  frecuencia  porcentajes\n",
      "0             1         676        97.13\n",
      "1             2          19         2.73\n",
      "2             3           1         0.14\n"
     ]
    }
   ],
   "source": [
    "frecuencia_victimas = df_fallecimientos.n_victimas.value_counts().reset_index()\n",
    "frecuencia_victimas = frecuencia_victimas.rename(columns={'index': 'cant_victimas', 'n_victimas':'frecuencia'})\n",
    "total_frecuencia = frecuencia_victimas['frecuencia'].sum()\n",
    "frecuencia_victimas['porcentajes'] = round((frecuencia_victimas['frecuencia'] / total_frecuencia) * 100,2)\n",
    "print('frecuencia de la cantidad de victimas fallecidas en accidentes viales entre 2016 y 2021')\n",
    "print(frecuencia_victimas)"
   ]
  },
  {
   "cell_type": "markdown",
   "metadata": {},
   "source": [
    "Gáficos: Frecuencia y porcentaje de fallecidos por accidente entre 2016 y 2021.\n"
   ]
  },
  {
   "cell_type": "code",
   "execution_count": 256,
   "metadata": {},
   "outputs": [
    {
     "data": {
      "image/png": "[encoded data removed]",
      "text/plain": [
       "<Figure size 1200x600 with 2 Axes>"
      ]
     },
     "metadata": {},
     "output_type": "display_data"
    }
   ],
   "source": [
    "# Gáficos: Frecuencia y porcentaje de fallecidos por accidente entre 2016 y 2021.\n",
    "\n",
    "# Creamos los gráficos\n",
    "\n",
    "fig, axes = plt.subplots(1, 2, figsize=(12, 6))\n",
    "\n",
    "# Gráfico 1 - Countplot\n",
    "ax1 = sns.countplot(\n",
    "    data=df_fallecimientos, \n",
    "    x='n_victimas', \n",
    "    ax=axes[0])\n",
    "\n",
    "# Título y etiquetas\n",
    "ax1.set_xlabel('Cantidad de fallecidos')\n",
    "ax1.set_ylabel('Cantidad de accidentes')\n",
    "ax1.set_title('Cantidad de fallecidos por Accidente entre 2016 y 2022\\n')\n",
    "\n",
    "# Agregamos valores en las barras\n",
    "for p in ax1.patches:\n",
    "    ax1.annotate(f'{int(p.get_height())}', (p.get_x() + p.get_width() / 2., p.get_height()), \n",
    "                ha='center', va='center', fontsize=12, color='black', xytext=(0, 5), \n",
    "                textcoords='offset points')\n",
    "\n",
    "# Gráfico 2 - Gráfico de torta\n",
    "\n",
    "una_victima = (df_fallecimientos.n_victimas == 1).sum()\n",
    "mas_de_una_victima = len(df_fallecimientos) - una_victima\n",
    "\n",
    "ax2 = axes[1]\n",
    "wedges, texts, autotexts = ax2.pie([una_victima,mas_de_una_victima],\n",
    "    startangle=180,\n",
    "    autopct='%1.1f%%',\n",
    ")\n",
    "\n",
    "# Título y etiquetas\n",
    "ax2.set_title('Distribución porcentual de la cantidad de víctimas \\n por accidente ente 2016 y 2022')\n",
    "ax2.legend(wedges, ['Una víctima', 'Más de una víctima'], loc='lower right')\n",
    "\n",
    "plt.tight_layout(pad=1)\n",
    "\n",
    "# Mostramos la figura\n",
    "plt.show()"
   ]
  },
  {
   "cell_type": "markdown",
   "metadata": {},
   "source": [
    "Podemos notar que la cantidad de víctimas fue mayormente de 1 persona y muy pco frecuente mas de una."
   ]
  },
  {
   "cell_type": "code",
   "execution_count": 257,
   "metadata": {},
   "outputs": [
    {
     "data": {
      "image/png": "[encoded data removed]",
      "text/plain": [
       "<Figure size 500x500 with 1 Axes>"
      ]
     },
     "metadata": {},
     "output_type": "display_data"
    }
   ],
   "source": [
    "# Gráfico: Histograma de siniestros viales por año\n",
    "\n",
    "ax = sns.catplot(\n",
    "    data=df_fallecimientos, \n",
    "    x='aaaa', \n",
    "    kind='count',\n",
    "    )\n",
    "\n",
    "# Agregar título y etiquetas de ejes\n",
    "plt.title('Cantidad de siniestros viales por año')\n",
    "plt.xlabel('Años')\n",
    "plt.ylabel('Frecuencia')\n",
    "\n",
    "# Mostrar el gráfico\n",
    "plt.show()\n",
    "\n",
    "\n",
    "\n"
   ]
  },
  {
   "cell_type": "code",
   "execution_count": 258,
   "metadata": {},
   "outputs": [
    {
     "data": {
      "image/png": "[encoded data removed]",
      "text/plain": [
       "<Figure size 1800x400 with 1 Axes>"
      ]
     },
     "metadata": {},
     "output_type": "display_data"
    }
   ],
   "source": [
    "# Cantidad de fallecidos en Accidentes de transito entre 2016 y 2022-\n",
    "\n",
    "df = df_fallecimientos.sort_values('fecha')\n",
    "\n",
    "plt.figure(figsize=(18, 4))\n",
    "plt.plot(df['fecha'], df['n_victimas'], marker='o', linestyle='-')\n",
    "plt.xlabel('Fecha')\n",
    "plt.ylabel('Cantidad de víctimas')\n",
    "plt.title('Cantidad de fallecidos en accidentes entre 2016 y 2022')\n",
    "plt.xticks(rotation=45)\n",
    "\n",
    "plt.gca().yaxis.set_major_locator(MaxNLocator(integer=True))\n",
    "\n",
    "\n",
    "plt.grid(True)\n",
    "plt.show()"
   ]
  },
  {
   "cell_type": "markdown",
   "metadata": {},
   "source": [
    "El gráficos anteriores nos muestan la cantidad de fallecimientos ocurridos en accidentes viales por año entre 2016 y 2021 y el porcentaje de cambio de la cantidad de fallecimientos entre un año y su anterior. \n",
    "\n",
    "- Podemos notar un descenso del 27.97% en la cantidad de fallecimientos en 2019 comparados con los acontecidos en 2018. \n",
    "\n",
    "    Contexto: Durante 2019 en CABA se tomaron las siguientes medidas: colocación de reductores de velocidad, mayores castigos a los choferes, concientización en más de 50 líneas de colectivos, modificación en la señalética y tiempos de los semáforos, aumento en los controles de alcoholemia y en el uso del cinturón de seguridad. También ese año aumentó en un 9% el rechazó al otorgamiento de licencias de conducir. \n",
    "    \n",
    "    Fuente: https://www.autoweb.com.ar/2020/06/09/en-2019-caba-redujo-el-30-los-muertos-por-accidentes-de-transito/\n",
    "\n",
    "- Podemos notar un descenso del 24.27% en la cantidad de fallecimientos en 2020 comparados con los acontecidos en 2019. \n",
    "\n",
    "    Contexto: El 11 de marzo de 2020 la Organización Mundial de la Salud (OMS) declaró al virus covid-19 como una pandemia. Esto llevó a la implementación de distintas  medidas por parte del gobierno argentino, entre las cuales podemos destacar: la cuarentena, el Aislamiento social, preventivo y obligatorio (ASPO) y la implementación de la educación a distancia. Mencionamos solo estas medidas ya que son las relevantes para el presente estudio. Estas medidas que restringian la circulación y favorecian el aislamiento de los ciudadanos impactaron visiblemente en la canditad de fallecidos en siniestros viales durante el 2020.\n",
    "    \n",
    "    Fuente: https://www.boletinoficial.gob.ar/detalleAviso/primera/227042/20200320\n",
    "\n",
    "- Podemos notar un ascenso del 24.36% en la cantidad de fallecimientos en 2021 comparados con los acontecidos en 2020. \n",
    "\n",
    "    Contexto: Las medidas sanitarias tomadas durante el 2020 a causa de la propagación del virus covid-19, fueron experimentando diversas fases en respuesta a la evolución de la situación epidemiológica en cada región del país. Estas fases variaban en términos de flexibilización de restricciones y apertura de actividades económicas y sociales. Por ejemplo se paso del Aislamiento social, Preventivo y Obligatorio(ASPO) al Distanciamiento Social, Preventivo y Obligatorio (DISPO).\n",
    "    \n",
    "    Los gráficos muestran que el número de fallecidos en 2021 es similar al de 2018, en ambos ya no existía la prohibición de circulación.\n",
    "\n",
    "    Fuentes:    https://www.elobservador.com.uy/nota/despues-de-155-dias-argentina-anunciara-el-fin-de-la-cuarentena-en-buenos-aires-y-el-conurbano-202011613059\n",
    "                https://www.boletinoficial.gob.ar/detalleAviso/primera/241290/20210228"
   ]
  },
  {
   "cell_type": "markdown",
   "metadata": {},
   "source": [
    "---"
   ]
  },
  {
   "cell_type": "code",
   "execution_count": 259,
   "metadata": {},
   "outputs": [],
   "source": [
    "df_fallecimientos.to_csv('../data/df_fallecimientos.csv',index=False)"
   ]
  },
  {
   "cell_type": "markdown",
   "metadata": {},
   "source": [
    "-----"
   ]
  },
  {
   "cell_type": "markdown",
   "metadata": {},
   "source": [
    "----"
   ]
  },
  {
   "cell_type": "markdown",
   "metadata": {},
   "source": [
    "# Dataset df_victimas"
   ]
  },
  {
   "cell_type": "markdown",
   "metadata": {},
   "source": [
    "* Tamaño del dataset y análisis del tipo de variables"
   ]
  },
  {
   "cell_type": "code",
   "execution_count": 260,
   "metadata": {},
   "outputs": [
    {
     "data": {
      "text/html": [
       "<div>\n",
       "<style scoped>\n",
       "    .dataframe tbody tr th:only-of-type {\n",
       "        vertical-align: middle;\n",
       "    }\n",
       "\n",
       "    .dataframe tbody tr th {\n",
       "        vertical-align: top;\n",
       "    }\n",
       "\n",
       "    .dataframe thead th {\n",
       "        text-align: right;\n",
       "    }\n",
       "</style>\n",
       "<table border=\"1\" class=\"dataframe\">\n",
       "  <thead>\n",
       "    <tr style=\"text-align: right;\">\n",
       "      <th></th>\n",
       "      <th>ID_hecho</th>\n",
       "      <th>FECHA</th>\n",
       "      <th>AAAA</th>\n",
       "      <th>MM</th>\n",
       "      <th>DD</th>\n",
       "      <th>ROL</th>\n",
       "      <th>VICTIMA</th>\n",
       "      <th>SEXO</th>\n",
       "      <th>EDAD</th>\n",
       "      <th>FECHA_FALLECIMIENTO</th>\n",
       "    </tr>\n",
       "  </thead>\n",
       "  <tbody>\n",
       "    <tr>\n",
       "      <th>0</th>\n",
       "      <td>2016-0001</td>\n",
       "      <td>2016-01-01</td>\n",
       "      <td>2016</td>\n",
       "      <td>1</td>\n",
       "      <td>1</td>\n",
       "      <td>CONDUCTOR</td>\n",
       "      <td>MOTO</td>\n",
       "      <td>MASCULINO</td>\n",
       "      <td>19</td>\n",
       "      <td>2016-01-01 00:00:00</td>\n",
       "    </tr>\n",
       "    <tr>\n",
       "      <th>1</th>\n",
       "      <td>2016-0002</td>\n",
       "      <td>2016-01-02</td>\n",
       "      <td>2016</td>\n",
       "      <td>1</td>\n",
       "      <td>2</td>\n",
       "      <td>CONDUCTOR</td>\n",
       "      <td>AUTO</td>\n",
       "      <td>MASCULINO</td>\n",
       "      <td>70</td>\n",
       "      <td>2016-01-02 00:00:00</td>\n",
       "    </tr>\n",
       "    <tr>\n",
       "      <th>2</th>\n",
       "      <td>2016-0003</td>\n",
       "      <td>2016-01-03</td>\n",
       "      <td>2016</td>\n",
       "      <td>1</td>\n",
       "      <td>3</td>\n",
       "      <td>CONDUCTOR</td>\n",
       "      <td>MOTO</td>\n",
       "      <td>MASCULINO</td>\n",
       "      <td>30</td>\n",
       "      <td>2016-01-03 00:00:00</td>\n",
       "    </tr>\n",
       "    <tr>\n",
       "      <th>3</th>\n",
       "      <td>2016-0004</td>\n",
       "      <td>2016-01-10</td>\n",
       "      <td>2016</td>\n",
       "      <td>1</td>\n",
       "      <td>10</td>\n",
       "      <td>CONDUCTOR</td>\n",
       "      <td>MOTO</td>\n",
       "      <td>MASCULINO</td>\n",
       "      <td>18</td>\n",
       "      <td>SD</td>\n",
       "    </tr>\n",
       "    <tr>\n",
       "      <th>4</th>\n",
       "      <td>2016-0005</td>\n",
       "      <td>2016-01-21</td>\n",
       "      <td>2016</td>\n",
       "      <td>1</td>\n",
       "      <td>21</td>\n",
       "      <td>CONDUCTOR</td>\n",
       "      <td>MOTO</td>\n",
       "      <td>MASCULINO</td>\n",
       "      <td>29</td>\n",
       "      <td>2016-02-01 00:00:00</td>\n",
       "    </tr>\n",
       "    <tr>\n",
       "      <th>...</th>\n",
       "      <td>...</td>\n",
       "      <td>...</td>\n",
       "      <td>...</td>\n",
       "      <td>...</td>\n",
       "      <td>...</td>\n",
       "      <td>...</td>\n",
       "      <td>...</td>\n",
       "      <td>...</td>\n",
       "      <td>...</td>\n",
       "      <td>...</td>\n",
       "    </tr>\n",
       "    <tr>\n",
       "      <th>712</th>\n",
       "      <td>2021-0092</td>\n",
       "      <td>2021-12-12</td>\n",
       "      <td>2021</td>\n",
       "      <td>12</td>\n",
       "      <td>12</td>\n",
       "      <td>PEATON</td>\n",
       "      <td>PEATON</td>\n",
       "      <td>FEMENINO</td>\n",
       "      <td>50</td>\n",
       "      <td>2021-12-12 00:00:00</td>\n",
       "    </tr>\n",
       "    <tr>\n",
       "      <th>713</th>\n",
       "      <td>2021-0093</td>\n",
       "      <td>2021-12-13</td>\n",
       "      <td>2021</td>\n",
       "      <td>12</td>\n",
       "      <td>13</td>\n",
       "      <td>PASAJERO_ACOMPAÑANTE</td>\n",
       "      <td>MOTO</td>\n",
       "      <td>FEMENINO</td>\n",
       "      <td>18</td>\n",
       "      <td>2021-12-18 00:00:00</td>\n",
       "    </tr>\n",
       "    <tr>\n",
       "      <th>714</th>\n",
       "      <td>2021-0094</td>\n",
       "      <td>2021-12-20</td>\n",
       "      <td>2021</td>\n",
       "      <td>12</td>\n",
       "      <td>20</td>\n",
       "      <td>PASAJERO_ACOMPAÑANTE</td>\n",
       "      <td>MOTO</td>\n",
       "      <td>FEMENINO</td>\n",
       "      <td>43</td>\n",
       "      <td>2021-12-20 00:00:00</td>\n",
       "    </tr>\n",
       "    <tr>\n",
       "      <th>715</th>\n",
       "      <td>2021-0095</td>\n",
       "      <td>2021-12-30</td>\n",
       "      <td>2021</td>\n",
       "      <td>12</td>\n",
       "      <td>30</td>\n",
       "      <td>CONDUCTOR</td>\n",
       "      <td>MOTO</td>\n",
       "      <td>MASCULINO</td>\n",
       "      <td>27</td>\n",
       "      <td>2022-01-02 00:00:00</td>\n",
       "    </tr>\n",
       "    <tr>\n",
       "      <th>716</th>\n",
       "      <td>2021-0096</td>\n",
       "      <td>2021-12-15</td>\n",
       "      <td>2021</td>\n",
       "      <td>12</td>\n",
       "      <td>15</td>\n",
       "      <td>CONDUCTOR</td>\n",
       "      <td>AUTO</td>\n",
       "      <td>MASCULINO</td>\n",
       "      <td>60</td>\n",
       "      <td>2021-12-20 00:00:00</td>\n",
       "    </tr>\n",
       "  </tbody>\n",
       "</table>\n",
       "<p>717 rows × 10 columns</p>\n",
       "</div>"
      ],
      "text/plain": [
       "      ID_hecho      FECHA  AAAA  MM  DD                   ROL VICTIMA  \\\n",
       "0    2016-0001 2016-01-01  2016   1   1             CONDUCTOR    MOTO   \n",
       "1    2016-0002 2016-01-02  2016   1   2             CONDUCTOR    AUTO   \n",
       "2    2016-0003 2016-01-03  2016   1   3             CONDUCTOR    MOTO   \n",
       "3    2016-0004 2016-01-10  2016   1  10             CONDUCTOR    MOTO   \n",
       "4    2016-0005 2016-01-21  2016   1  21             CONDUCTOR    MOTO   \n",
       "..         ...        ...   ...  ..  ..                   ...     ...   \n",
       "712  2021-0092 2021-12-12  2021  12  12                PEATON  PEATON   \n",
       "713  2021-0093 2021-12-13  2021  12  13  PASAJERO_ACOMPAÑANTE    MOTO   \n",
       "714  2021-0094 2021-12-20  2021  12  20  PASAJERO_ACOMPAÑANTE    MOTO   \n",
       "715  2021-0095 2021-12-30  2021  12  30             CONDUCTOR    MOTO   \n",
       "716  2021-0096 2021-12-15  2021  12  15             CONDUCTOR    AUTO   \n",
       "\n",
       "          SEXO EDAD  FECHA_FALLECIMIENTO  \n",
       "0    MASCULINO   19  2016-01-01 00:00:00  \n",
       "1    MASCULINO   70  2016-01-02 00:00:00  \n",
       "2    MASCULINO   30  2016-01-03 00:00:00  \n",
       "3    MASCULINO   18                   SD  \n",
       "4    MASCULINO   29  2016-02-01 00:00:00  \n",
       "..         ...  ...                  ...  \n",
       "712   FEMENINO   50  2021-12-12 00:00:00  \n",
       "713   FEMENINO   18  2021-12-18 00:00:00  \n",
       "714   FEMENINO   43  2021-12-20 00:00:00  \n",
       "715  MASCULINO   27  2022-01-02 00:00:00  \n",
       "716  MASCULINO   60  2021-12-20 00:00:00  \n",
       "\n",
       "[717 rows x 10 columns]"
      ]
     },
     "execution_count": 260,
     "metadata": {},
     "output_type": "execute_result"
    }
   ],
   "source": [
    "df_victimas"
   ]
  },
  {
   "cell_type": "code",
   "execution_count": 261,
   "metadata": {},
   "outputs": [
    {
     "data": {
      "text/plain": [
       "(717, 10)"
      ]
     },
     "execution_count": 261,
     "metadata": {},
     "output_type": "execute_result"
    }
   ],
   "source": [
    "df_victimas.shape"
   ]
  },
  {
   "cell_type": "code",
   "execution_count": 262,
   "metadata": {},
   "outputs": [
    {
     "name": "stdout",
     "output_type": "stream",
     "text": [
      "<class 'pandas.core.frame.DataFrame'>\n",
      "RangeIndex: 717 entries, 0 to 716\n",
      "Data columns (total 10 columns):\n",
      " #   Column               Non-Null Count  Dtype         \n",
      "---  ------               --------------  -----         \n",
      " 0   ID_hecho             717 non-null    object        \n",
      " 1   FECHA                717 non-null    datetime64[ns]\n",
      " 2   AAAA                 717 non-null    int64         \n",
      " 3   MM                   717 non-null    int64         \n",
      " 4   DD                   717 non-null    int64         \n",
      " 5   ROL                  717 non-null    object        \n",
      " 6   VICTIMA              717 non-null    object        \n",
      " 7   SEXO                 717 non-null    object        \n",
      " 8   EDAD                 717 non-null    object        \n",
      " 9   FECHA_FALLECIMIENTO  717 non-null    object        \n",
      "dtypes: datetime64[ns](1), int64(3), object(6)\n",
      "memory usage: 56.1+ KB\n"
     ]
    }
   ],
   "source": [
    "df_victimas.info()"
   ]
  },
  {
   "cell_type": "code",
   "execution_count": 263,
   "metadata": {},
   "outputs": [
    {
     "data": {
      "text/plain": [
       "object            6\n",
       "int64             3\n",
       "datetime64[ns]    1\n",
       "dtype: int64"
      ]
     },
     "execution_count": 263,
     "metadata": {},
     "output_type": "execute_result"
    }
   ],
   "source": [
    "df_victimas.dtypes.value_counts()"
   ]
  },
  {
   "cell_type": "code",
   "execution_count": 264,
   "metadata": {},
   "outputs": [
    {
     "name": "stdout",
     "output_type": "stream",
     "text": [
      "El dataset posee 717 filas y 10 columnas.\n",
      "Las columnas del dataset son ['ID_hecho', 'FECHA', 'AAAA', 'MM', 'DD', 'ROL', 'VICTIMA', 'SEXO', 'EDAD', 'FECHA_FALLECIMIENTO']\n"
     ]
    }
   ],
   "source": [
    "print('El dataset posee', df_victimas.shape[0], 'filas y', df_victimas.shape[1], 'columnas.')\n",
    "print('Las columnas del dataset son', list(df_victimas.columns))"
   ]
  },
  {
   "cell_type": "markdown",
   "metadata": {},
   "source": [
    "* Diccionario de variables\n",
    "Para comprender el dataset utilizaremos el siguiente diccionario de variables que se extajo de una pestaña del xls de donde extrajimos los datos."
   ]
  },
  {
   "cell_type": "code",
   "execution_count": 265,
   "metadata": {},
   "outputs": [
    {
     "data": {
      "text/html": [
       "<div>\n",
       "<style scoped>\n",
       "    .dataframe tbody tr th:only-of-type {\n",
       "        vertical-align: middle;\n",
       "    }\n",
       "\n",
       "    .dataframe tbody tr th {\n",
       "        vertical-align: top;\n",
       "    }\n",
       "\n",
       "    .dataframe thead th {\n",
       "        text-align: right;\n",
       "    }\n",
       "</style>\n",
       "<table border=\"1\" class=\"dataframe\">\n",
       "  <thead>\n",
       "    <tr style=\"text-align: right;\">\n",
       "      <th></th>\n",
       "      <th>variables y definiciones</th>\n",
       "      <th>descripcion</th>\n",
       "    </tr>\n",
       "  </thead>\n",
       "  <tbody>\n",
       "    <tr>\n",
       "      <th>0</th>\n",
       "      <td>ID_hecho</td>\n",
       "      <td>Identificador unico del siniestro</td>\n",
       "    </tr>\n",
       "    <tr>\n",
       "      <th>1</th>\n",
       "      <td>FECHA</td>\n",
       "      <td>Fecha en formato dd/mm/aaaa</td>\n",
       "    </tr>\n",
       "    <tr>\n",
       "      <th>2</th>\n",
       "      <td>AAAA</td>\n",
       "      <td>Año</td>\n",
       "    </tr>\n",
       "    <tr>\n",
       "      <th>3</th>\n",
       "      <td>MM</td>\n",
       "      <td>Mes</td>\n",
       "    </tr>\n",
       "    <tr>\n",
       "      <th>4</th>\n",
       "      <td>DD</td>\n",
       "      <td>Día del mes</td>\n",
       "    </tr>\n",
       "    <tr>\n",
       "      <th>5</th>\n",
       "      <td>ROL</td>\n",
       "      <td>Posición relativa al vehículo que presentaba la víctima en el momento del siniestro</td>\n",
       "    </tr>\n",
       "    <tr>\n",
       "      <th>6</th>\n",
       "      <td>VICTIMA</td>\n",
       "      <td>Vehículo que ocupaba quien haya fallecido a se haya lastimado a raíz del hecho, o bien peatón/a. clasificación agregada del tipo de vehículos.</td>\n",
       "    </tr>\n",
       "    <tr>\n",
       "      <th>7</th>\n",
       "      <td>SEXO</td>\n",
       "      <td>Sexo informado por fuente policial de la víctima</td>\n",
       "    </tr>\n",
       "    <tr>\n",
       "      <th>8</th>\n",
       "      <td>EDAD</td>\n",
       "      <td>Edad de la víctima al momento del siniestro</td>\n",
       "    </tr>\n",
       "  </tbody>\n",
       "</table>\n",
       "</div>"
      ],
      "text/plain": [
       "  variables y definiciones  \\\n",
       "0                 ID_hecho   \n",
       "1                    FECHA   \n",
       "2                     AAAA   \n",
       "3                       MM   \n",
       "4                       DD   \n",
       "5                      ROL   \n",
       "6                  VICTIMA   \n",
       "7                     SEXO   \n",
       "8                     EDAD   \n",
       "\n",
       "                                                                                                                                      descripcion  \n",
       "0                                                                                                               Identificador unico del siniestro  \n",
       "1                                                                                                                     Fecha en formato dd/mm/aaaa  \n",
       "2                                                                                                                                             Año  \n",
       "3                                                                                                                                             Mes  \n",
       "4                                                                                                                                     Día del mes  \n",
       "5                                                             Posición relativa al vehículo que presentaba la víctima en el momento del siniestro  \n",
       "6  Vehículo que ocupaba quien haya fallecido a se haya lastimado a raíz del hecho, o bien peatón/a. clasificación agregada del tipo de vehículos.  \n",
       "7                                                                                                Sexo informado por fuente policial de la víctima  \n",
       "8                                                                                                     Edad de la víctima al momento del siniestro  "
      ]
     },
     "execution_count": 265,
     "metadata": {},
     "output_type": "execute_result"
    }
   ],
   "source": [
    "df_diccionario_variables_del_df_victimas"
   ]
  },
  {
   "cell_type": "markdown",
   "metadata": {},
   "source": [
    "Entendiendo mejor las variables que analizaremos procederemos a modificiar el tipo de alguna de ellas para luego poder estudiarlas mas facilmente."
   ]
  },
  {
   "cell_type": "code",
   "execution_count": 266,
   "metadata": {},
   "outputs": [],
   "source": [
    "df_victimas = df_victimas.astype({\n",
    "    # 'ID_hecho', \n",
    "    # 'FECHA', \n",
    "    'AAAA': 'category', \n",
    "    'MM': 'category', \n",
    "    'DD': 'category', \n",
    "    'ROL': 'category', \n",
    "    'VICTIMA': 'category', \n",
    "    'SEXO': 'category',\n",
    "    'EDAD': 'category', \n",
    "    # 'FECHA_FALLECIMIENTO'\n",
    "    })"
   ]
  },
  {
   "cell_type": "code",
   "execution_count": 267,
   "metadata": {},
   "outputs": [
    {
     "name": "stdout",
     "output_type": "stream",
     "text": [
      "<class 'pandas.core.frame.DataFrame'>\n",
      "RangeIndex: 696 entries, 0 to 695\n",
      "Data columns (total 22 columns):\n",
      " #   Column                 Non-Null Count  Dtype         \n",
      "---  ------                 --------------  -----         \n",
      " 0   id                     696 non-null    object        \n",
      " 1   n_victimas             696 non-null    category      \n",
      " 2   fecha                  696 non-null    datetime64[ns]\n",
      " 3   aaaa                   696 non-null    category      \n",
      " 4   mm                     696 non-null    category      \n",
      " 5   dd                     696 non-null    category      \n",
      " 6   hora                   696 non-null    object        \n",
      " 7   hh                     696 non-null    category      \n",
      " 8   lugar_del_hecho        696 non-null    object        \n",
      " 9   tipo_de_calle          696 non-null    category      \n",
      " 10  calle                  695 non-null    object        \n",
      " 11  altura                 130 non-null    object        \n",
      " 12  cruce                  525 non-null    object        \n",
      " 13  direccion_normalizada  688 non-null    object        \n",
      " 14  comuna                 696 non-null    category      \n",
      " 15  xy                     696 non-null    object        \n",
      " 16  x                      696 non-null    object        \n",
      " 17  y                      696 non-null    object        \n",
      " 18  participantes          696 non-null    category      \n",
      " 19  victima                696 non-null    category      \n",
      " 20  acusado                696 non-null    category      \n",
      " 21  ubicacion              696 non-null    object        \n",
      "dtypes: category(10), datetime64[ns](1), object(11)\n",
      "memory usage: 77.9+ KB\n"
     ]
    }
   ],
   "source": [
    "df_fallecimientos.info()"
   ]
  },
  {
   "cell_type": "markdown",
   "metadata": {},
   "source": [
    "* Analisis de valores nulos y duplicados."
   ]
  },
  {
   "cell_type": "markdown",
   "metadata": {},
   "source": [
    "Análisis de filas duplicados.\n"
   ]
  },
  {
   "cell_type": "code",
   "execution_count": 268,
   "metadata": {},
   "outputs": [
    {
     "data": {
      "text/plain": [
       "0"
      ]
     },
     "execution_count": 268,
     "metadata": {},
     "output_type": "execute_result"
    }
   ],
   "source": [
    "# Cantidad de valores duplicados por variable\n",
    "(\n",
    "    df_victimas\n",
    "    .duplicated()\n",
    "    .sum()\n",
    ")\n"
   ]
  },
  {
   "cell_type": "markdown",
   "metadata": {},
   "source": [
    "No tenemos filas duplicadas."
   ]
  },
  {
   "cell_type": "markdown",
   "metadata": {},
   "source": [
    "Análisis de filas con valores nulos.\n"
   ]
  },
  {
   "cell_type": "code",
   "execution_count": 269,
   "metadata": {},
   "outputs": [
    {
     "data": {
      "text/plain": [
       "ID_hecho               0\n",
       "FECHA                  0\n",
       "AAAA                   0\n",
       "MM                     0\n",
       "DD                     0\n",
       "ROL                    0\n",
       "VICTIMA                0\n",
       "SEXO                   0\n",
       "EDAD                   0\n",
       "FECHA_FALLECIMIENTO    0\n",
       "dtype: int64"
      ]
     },
     "execution_count": 269,
     "metadata": {},
     "output_type": "execute_result"
    }
   ],
   "source": [
    "# Cantidad de valores nulos por variable\n",
    "(\n",
    "    df_victimas\n",
    "    .isnull()\n",
    "    .sum()\n",
    ")"
   ]
  },
  {
   "cell_type": "markdown",
   "metadata": {},
   "source": [
    "No tenemos valores nulos."
   ]
  },
  {
   "cell_type": "markdown",
   "metadata": {},
   "source": [
    "* Analisis de columnas sin datos (SD)"
   ]
  },
  {
   "cell_type": "code",
   "execution_count": 270,
   "metadata": {},
   "outputs": [
    {
     "data": {
      "text/plain": [
       "ID_hecho                0\n",
       "FECHA                   0\n",
       "AAAA                    0\n",
       "MM                      0\n",
       "DD                      0\n",
       "ROL                    11\n",
       "VICTIMA                 9\n",
       "SEXO                    6\n",
       "EDAD                   53\n",
       "FECHA_FALLECIMIENTO    68\n",
       "dtype: int64"
      ]
     },
     "execution_count": 270,
     "metadata": {},
     "output_type": "execute_result"
    }
   ],
   "source": [
    "(df_victimas == 'SD').sum()"
   ]
  },
  {
   "cell_type": "markdown",
   "metadata": {},
   "source": [
    "Valores únicos de ROL, VICTIMA, SEXO."
   ]
  },
  {
   "cell_type": "code",
   "execution_count": 271,
   "metadata": {},
   "outputs": [
    {
     "data": {
      "text/plain": [
       "['CONDUCTOR', 'PASAJERO_ACOMPAÑANTE', 'PEATON', 'SD', 'CICLISTA']"
      ]
     },
     "execution_count": 271,
     "metadata": {},
     "output_type": "execute_result"
    }
   ],
   "source": [
    "df_victimas.ROL.unique().tolist()"
   ]
  },
  {
   "cell_type": "code",
   "execution_count": 272,
   "metadata": {},
   "outputs": [
    {
     "data": {
      "text/plain": [
       "['MOTO', 'AUTO', 'PEATON', 'SD', 'CARGAS', 'BICICLETA', 'PASAJEROS', 'MOVIL']"
      ]
     },
     "execution_count": 272,
     "metadata": {},
     "output_type": "execute_result"
    }
   ],
   "source": [
    "df_victimas.VICTIMA.unique().tolist()"
   ]
  },
  {
   "cell_type": "code",
   "execution_count": 273,
   "metadata": {},
   "outputs": [
    {
     "data": {
      "text/plain": [
       "['MASCULINO', 'FEMENINO', 'SD']\n",
       "Categories (3, object): ['FEMENINO', 'MASCULINO', 'SD']"
      ]
     },
     "execution_count": 273,
     "metadata": {},
     "output_type": "execute_result"
    }
   ],
   "source": [
    "df_victimas.SEXO.unique()"
   ]
  },
  {
   "cell_type": "code",
   "execution_count": 274,
   "metadata": {},
   "outputs": [
    {
     "data": {
      "image/png": "[encoded data removed]",
      "text/plain": [
       "<Figure size 600x600 with 4 Axes>"
      ]
     },
     "metadata": {},
     "output_type": "display_data"
    }
   ],
   "source": [
    "columns = ['SEXO', 'VICTIMA', 'ROL', 'EDAD'] # listade las columnas que vamos a analizar. \n",
    "# La columna FECHA_FALLECIMIENTO no se analizará por lo que no veremos la calidad de sus datos.\n",
    "\n",
    "\n",
    "# Creamos los gráficos\n",
    "fig, axes = plt.subplots(nrows=2, ncols=2, figsize=(6,6))\n",
    "\n",
    "for i, col in enumerate(columns):\n",
    "    \n",
    "    proporcion_SD = (df_victimas[col] == 'SD').mean() # Calculamos la proporción de filas que contienen 'SD'\n",
    "\n",
    "    # Datos que utilizará el gráfico\n",
    "    labels = ['Con \"SD\"', 'Sin \"SD\"']\n",
    "    sizes = [proporcion_SD, 1 - proporcion_SD]\n",
    "\n",
    "    # Asignamos el subgráfico correspondiente\n",
    "    ax = axes[i // 2, i % 2]\n",
    "\n",
    "    # Crear el gráfico de torta\n",
    "    ax.pie(sizes, labels=labels, autopct='%1.1f%%', startangle=140)\n",
    "    ax.set_title(f'Columna {col}')\n",
    "    ax.axis('equal')  # Asegura que el gráfico sea un círculo.\n",
    "\n",
    "# Título general\n",
    "fig.suptitle('Proporción de filas con \"SD\"')\n",
    "\n",
    "#  Ajustar el espaciado entre subgráficos\n",
    "plt.tight_layout()\n",
    "\n",
    "# Mostrar el gráfico\n",
    "plt.show()\n"
   ]
  },
  {
   "cell_type": "markdown",
   "metadata": {},
   "source": [
    "Podemos notar que si bien tenemos valores faltantes, estos representan un porcentaje muy bajo de nuestra base de datos."
   ]
  },
  {
   "cell_type": "markdown",
   "metadata": {},
   "source": [
    "* Análisis de los datos segun su tipo"
   ]
  },
  {
   "cell_type": "markdown",
   "metadata": {},
   "source": [
    "Categóricos"
   ]
  },
  {
   "cell_type": "code",
   "execution_count": 279,
   "metadata": {},
   "outputs": [
    {
     "data": {
      "text/html": [
       "<div>\n",
       "<style scoped>\n",
       "    .dataframe tbody tr th:only-of-type {\n",
       "        vertical-align: middle;\n",
       "    }\n",
       "\n",
       "    .dataframe tbody tr th {\n",
       "        vertical-align: top;\n",
       "    }\n",
       "\n",
       "    .dataframe thead th {\n",
       "        text-align: right;\n",
       "    }\n",
       "</style>\n",
       "<table border=\"1\" class=\"dataframe\">\n",
       "  <thead>\n",
       "    <tr style=\"text-align: right;\">\n",
       "      <th></th>\n",
       "      <th>AAAA</th>\n",
       "      <th>MM</th>\n",
       "      <th>DD</th>\n",
       "      <th>ROL</th>\n",
       "      <th>VICTIMA</th>\n",
       "      <th>SEXO</th>\n",
       "      <th>EDAD</th>\n",
       "    </tr>\n",
       "  </thead>\n",
       "  <tbody>\n",
       "    <tr>\n",
       "      <th>count</th>\n",
       "      <td>717</td>\n",
       "      <td>717</td>\n",
       "      <td>717</td>\n",
       "      <td>717</td>\n",
       "      <td>717</td>\n",
       "      <td>717</td>\n",
       "      <td>717</td>\n",
       "    </tr>\n",
       "    <tr>\n",
       "      <th>unique</th>\n",
       "      <td>6</td>\n",
       "      <td>12</td>\n",
       "      <td>31</td>\n",
       "      <td>5</td>\n",
       "      <td>8</td>\n",
       "      <td>3</td>\n",
       "      <td>86</td>\n",
       "    </tr>\n",
       "    <tr>\n",
       "      <th>top</th>\n",
       "      <td>2018</td>\n",
       "      <td>12</td>\n",
       "      <td>20</td>\n",
       "      <td>CONDUCTOR</td>\n",
       "      <td>MOTO</td>\n",
       "      <td>MASCULINO</td>\n",
       "      <td>SD</td>\n",
       "    </tr>\n",
       "    <tr>\n",
       "      <th>freq</th>\n",
       "      <td>149</td>\n",
       "      <td>81</td>\n",
       "      <td>32</td>\n",
       "      <td>330</td>\n",
       "      <td>303</td>\n",
       "      <td>545</td>\n",
       "      <td>53</td>\n",
       "    </tr>\n",
       "  </tbody>\n",
       "</table>\n",
       "</div>"
      ],
      "text/plain": [
       "        AAAA   MM   DD        ROL VICTIMA       SEXO EDAD\n",
       "count    717  717  717        717     717        717  717\n",
       "unique     6   12   31          5       8          3   86\n",
       "top     2018   12   20  CONDUCTOR    MOTO  MASCULINO   SD\n",
       "freq     149   81   32        330     303        545   53"
      ]
     },
     "execution_count": 279,
     "metadata": {},
     "output_type": "execute_result"
    }
   ],
   "source": [
    "df_victimas.describe(include='category')"
   ]
  },
  {
   "cell_type": "markdown",
   "metadata": {},
   "source": [
    "Podemos ver:\n",
    "\n",
    "* Años (aaaa): Poseemos 6 valores y el año con mayor cantidad victimas fue el 2016 (149 víctimas).\n",
    "* Meses (mm): De los 12 meses del año, diciembre (12) fue el que registró mayor cantidad de siniestros, 81 en total.\n",
    "* Día (dd): Si consideramos los dias del mes, se registraron mayor cantidad de fallecimientos el dia número 20.\n",
    "* Rol: El rol que presentó mayor frecuencia de fallecimientos fue el de CONDUCTOR.\n",
    "* Sexo: La mayoría de los fallecidos fueron de sexo MASCULINO.\n",
    "* Edad: La mayor frecuencia en la columna edad es la de SD."
   ]
  },
  {
   "cell_type": "markdown",
   "metadata": {},
   "source": [
    "Objetos"
   ]
  },
  {
   "cell_type": "code",
   "execution_count": 280,
   "metadata": {},
   "outputs": [
    {
     "data": {
      "text/html": [
       "<div>\n",
       "<style scoped>\n",
       "    .dataframe tbody tr th:only-of-type {\n",
       "        vertical-align: middle;\n",
       "    }\n",
       "\n",
       "    .dataframe tbody tr th {\n",
       "        vertical-align: top;\n",
       "    }\n",
       "\n",
       "    .dataframe thead th {\n",
       "        text-align: right;\n",
       "    }\n",
       "</style>\n",
       "<table border=\"1\" class=\"dataframe\">\n",
       "  <thead>\n",
       "    <tr style=\"text-align: right;\">\n",
       "      <th></th>\n",
       "      <th>ID_hecho</th>\n",
       "      <th>FECHA_FALLECIMIENTO</th>\n",
       "    </tr>\n",
       "  </thead>\n",
       "  <tbody>\n",
       "    <tr>\n",
       "      <th>count</th>\n",
       "      <td>717</td>\n",
       "      <td>717</td>\n",
       "    </tr>\n",
       "    <tr>\n",
       "      <th>unique</th>\n",
       "      <td>696</td>\n",
       "      <td>563</td>\n",
       "    </tr>\n",
       "    <tr>\n",
       "      <th>top</th>\n",
       "      <td>2017-0035</td>\n",
       "      <td>SD</td>\n",
       "    </tr>\n",
       "    <tr>\n",
       "      <th>freq</th>\n",
       "      <td>3</td>\n",
       "      <td>68</td>\n",
       "    </tr>\n",
       "  </tbody>\n",
       "</table>\n",
       "</div>"
      ],
      "text/plain": [
       "         ID_hecho FECHA_FALLECIMIENTO\n",
       "count         717                 717\n",
       "unique        696                 563\n",
       "top     2017-0035                  SD\n",
       "freq            3                  68"
      ]
     },
     "execution_count": 280,
     "metadata": {},
     "output_type": "execute_result"
    }
   ],
   "source": [
    "df_victimas.describe(include=object)"
   ]
  },
  {
   "cell_type": "markdown",
   "metadata": {},
   "source": [
    "Podemos ver que hubo un accidente con 3 victimas."
   ]
  },
  {
   "cell_type": "markdown",
   "metadata": {},
   "source": [
    "---"
   ]
  },
  {
   "cell_type": "markdown",
   "metadata": {},
   "source": [
    "* Título"
   ]
  },
  {
   "cell_type": "code",
   "execution_count": 283,
   "metadata": {},
   "outputs": [
    {
     "data": {
      "text/html": [
       "<div>\n",
       "<style scoped>\n",
       "    .dataframe tbody tr th:only-of-type {\n",
       "        vertical-align: middle;\n",
       "    }\n",
       "\n",
       "    .dataframe tbody tr th {\n",
       "        vertical-align: top;\n",
       "    }\n",
       "\n",
       "    .dataframe thead th {\n",
       "        text-align: right;\n",
       "    }\n",
       "</style>\n",
       "<table border=\"1\" class=\"dataframe\">\n",
       "  <thead>\n",
       "    <tr style=\"text-align: right;\">\n",
       "      <th></th>\n",
       "      <th>ID_hecho</th>\n",
       "      <th>FECHA</th>\n",
       "      <th>AAAA</th>\n",
       "      <th>MM</th>\n",
       "      <th>DD</th>\n",
       "      <th>ROL</th>\n",
       "      <th>VICTIMA</th>\n",
       "      <th>SEXO</th>\n",
       "      <th>EDAD</th>\n",
       "      <th>FECHA_FALLECIMIENTO</th>\n",
       "    </tr>\n",
       "  </thead>\n",
       "  <tbody>\n",
       "    <tr>\n",
       "      <th>0</th>\n",
       "      <td>2016-0001</td>\n",
       "      <td>2016-01-01</td>\n",
       "      <td>2016</td>\n",
       "      <td>1</td>\n",
       "      <td>1</td>\n",
       "      <td>CONDUCTOR</td>\n",
       "      <td>MOTO</td>\n",
       "      <td>MASCULINO</td>\n",
       "      <td>19</td>\n",
       "      <td>2016-01-01 00:00:00</td>\n",
       "    </tr>\n",
       "    <tr>\n",
       "      <th>1</th>\n",
       "      <td>2016-0002</td>\n",
       "      <td>2016-01-02</td>\n",
       "      <td>2016</td>\n",
       "      <td>1</td>\n",
       "      <td>2</td>\n",
       "      <td>CONDUCTOR</td>\n",
       "      <td>AUTO</td>\n",
       "      <td>MASCULINO</td>\n",
       "      <td>70</td>\n",
       "      <td>2016-01-02 00:00:00</td>\n",
       "    </tr>\n",
       "    <tr>\n",
       "      <th>2</th>\n",
       "      <td>2016-0003</td>\n",
       "      <td>2016-01-03</td>\n",
       "      <td>2016</td>\n",
       "      <td>1</td>\n",
       "      <td>3</td>\n",
       "      <td>CONDUCTOR</td>\n",
       "      <td>MOTO</td>\n",
       "      <td>MASCULINO</td>\n",
       "      <td>30</td>\n",
       "      <td>2016-01-03 00:00:00</td>\n",
       "    </tr>\n",
       "    <tr>\n",
       "      <th>3</th>\n",
       "      <td>2016-0004</td>\n",
       "      <td>2016-01-10</td>\n",
       "      <td>2016</td>\n",
       "      <td>1</td>\n",
       "      <td>10</td>\n",
       "      <td>CONDUCTOR</td>\n",
       "      <td>MOTO</td>\n",
       "      <td>MASCULINO</td>\n",
       "      <td>18</td>\n",
       "      <td>SD</td>\n",
       "    </tr>\n",
       "    <tr>\n",
       "      <th>4</th>\n",
       "      <td>2016-0005</td>\n",
       "      <td>2016-01-21</td>\n",
       "      <td>2016</td>\n",
       "      <td>1</td>\n",
       "      <td>21</td>\n",
       "      <td>CONDUCTOR</td>\n",
       "      <td>MOTO</td>\n",
       "      <td>MASCULINO</td>\n",
       "      <td>29</td>\n",
       "      <td>2016-02-01 00:00:00</td>\n",
       "    </tr>\n",
       "    <tr>\n",
       "      <th>...</th>\n",
       "      <td>...</td>\n",
       "      <td>...</td>\n",
       "      <td>...</td>\n",
       "      <td>...</td>\n",
       "      <td>...</td>\n",
       "      <td>...</td>\n",
       "      <td>...</td>\n",
       "      <td>...</td>\n",
       "      <td>...</td>\n",
       "      <td>...</td>\n",
       "    </tr>\n",
       "    <tr>\n",
       "      <th>712</th>\n",
       "      <td>2021-0092</td>\n",
       "      <td>2021-12-12</td>\n",
       "      <td>2021</td>\n",
       "      <td>12</td>\n",
       "      <td>12</td>\n",
       "      <td>PEATON</td>\n",
       "      <td>PEATON</td>\n",
       "      <td>FEMENINO</td>\n",
       "      <td>50</td>\n",
       "      <td>2021-12-12 00:00:00</td>\n",
       "    </tr>\n",
       "    <tr>\n",
       "      <th>713</th>\n",
       "      <td>2021-0093</td>\n",
       "      <td>2021-12-13</td>\n",
       "      <td>2021</td>\n",
       "      <td>12</td>\n",
       "      <td>13</td>\n",
       "      <td>PASAJERO_ACOMPAÑANTE</td>\n",
       "      <td>MOTO</td>\n",
       "      <td>FEMENINO</td>\n",
       "      <td>18</td>\n",
       "      <td>2021-12-18 00:00:00</td>\n",
       "    </tr>\n",
       "    <tr>\n",
       "      <th>714</th>\n",
       "      <td>2021-0094</td>\n",
       "      <td>2021-12-20</td>\n",
       "      <td>2021</td>\n",
       "      <td>12</td>\n",
       "      <td>20</td>\n",
       "      <td>PASAJERO_ACOMPAÑANTE</td>\n",
       "      <td>MOTO</td>\n",
       "      <td>FEMENINO</td>\n",
       "      <td>43</td>\n",
       "      <td>2021-12-20 00:00:00</td>\n",
       "    </tr>\n",
       "    <tr>\n",
       "      <th>715</th>\n",
       "      <td>2021-0095</td>\n",
       "      <td>2021-12-30</td>\n",
       "      <td>2021</td>\n",
       "      <td>12</td>\n",
       "      <td>30</td>\n",
       "      <td>CONDUCTOR</td>\n",
       "      <td>MOTO</td>\n",
       "      <td>MASCULINO</td>\n",
       "      <td>27</td>\n",
       "      <td>2022-01-02 00:00:00</td>\n",
       "    </tr>\n",
       "    <tr>\n",
       "      <th>716</th>\n",
       "      <td>2021-0096</td>\n",
       "      <td>2021-12-15</td>\n",
       "      <td>2021</td>\n",
       "      <td>12</td>\n",
       "      <td>15</td>\n",
       "      <td>CONDUCTOR</td>\n",
       "      <td>AUTO</td>\n",
       "      <td>MASCULINO</td>\n",
       "      <td>60</td>\n",
       "      <td>2021-12-20 00:00:00</td>\n",
       "    </tr>\n",
       "  </tbody>\n",
       "</table>\n",
       "<p>717 rows × 10 columns</p>\n",
       "</div>"
      ],
      "text/plain": [
       "      ID_hecho      FECHA  AAAA  MM  DD                   ROL VICTIMA  \\\n",
       "0    2016-0001 2016-01-01  2016   1   1             CONDUCTOR    MOTO   \n",
       "1    2016-0002 2016-01-02  2016   1   2             CONDUCTOR    AUTO   \n",
       "2    2016-0003 2016-01-03  2016   1   3             CONDUCTOR    MOTO   \n",
       "3    2016-0004 2016-01-10  2016   1  10             CONDUCTOR    MOTO   \n",
       "4    2016-0005 2016-01-21  2016   1  21             CONDUCTOR    MOTO   \n",
       "..         ...        ...   ...  ..  ..                   ...     ...   \n",
       "712  2021-0092 2021-12-12  2021  12  12                PEATON  PEATON   \n",
       "713  2021-0093 2021-12-13  2021  12  13  PASAJERO_ACOMPAÑANTE    MOTO   \n",
       "714  2021-0094 2021-12-20  2021  12  20  PASAJERO_ACOMPAÑANTE    MOTO   \n",
       "715  2021-0095 2021-12-30  2021  12  30             CONDUCTOR    MOTO   \n",
       "716  2021-0096 2021-12-15  2021  12  15             CONDUCTOR    AUTO   \n",
       "\n",
       "          SEXO EDAD  FECHA_FALLECIMIENTO  \n",
       "0    MASCULINO   19  2016-01-01 00:00:00  \n",
       "1    MASCULINO   70  2016-01-02 00:00:00  \n",
       "2    MASCULINO   30  2016-01-03 00:00:00  \n",
       "3    MASCULINO   18                   SD  \n",
       "4    MASCULINO   29  2016-02-01 00:00:00  \n",
       "..         ...  ...                  ...  \n",
       "712   FEMENINO   50  2021-12-12 00:00:00  \n",
       "713   FEMENINO   18  2021-12-18 00:00:00  \n",
       "714   FEMENINO   43  2021-12-20 00:00:00  \n",
       "715  MASCULINO   27  2022-01-02 00:00:00  \n",
       "716  MASCULINO   60  2021-12-20 00:00:00  \n",
       "\n",
       "[717 rows x 10 columns]"
      ]
     },
     "execution_count": 283,
     "metadata": {},
     "output_type": "execute_result"
    }
   ],
   "source": [
    "df_victimas"
   ]
  },
  {
   "cell_type": "code",
   "execution_count": 294,
   "metadata": {},
   "outputs": [],
   "source": [
    "df =df_victimas\n",
    "df = df[df.EDAD !='SD']"
   ]
  },
  {
   "cell_type": "code",
   "execution_count": 303,
   "metadata": {},
   "outputs": [
    {
     "name": "stdout",
     "output_type": "stream",
     "text": [
      "<class 'pandas.core.frame.DataFrame'>\n",
      "Int64Index: 664 entries, 0 to 716\n",
      "Data columns (total 10 columns):\n",
      " #   Column               Non-Null Count  Dtype         \n",
      "---  ------               --------------  -----         \n",
      " 0   ID_hecho             664 non-null    object        \n",
      " 1   FECHA                664 non-null    datetime64[ns]\n",
      " 2   AAAA                 664 non-null    category      \n",
      " 3   MM                   664 non-null    category      \n",
      " 4   DD                   664 non-null    category      \n",
      " 5   ROL                  664 non-null    category      \n",
      " 6   VICTIMA              664 non-null    category      \n",
      " 7   SEXO                 664 non-null    category      \n",
      " 8   EDAD                 664 non-null    int64         \n",
      " 9   FECHA_FALLECIMIENTO  664 non-null    object        \n",
      "dtypes: category(6), datetime64[ns](1), int64(1), object(2)\n",
      "memory usage: 32.4+ KB\n"
     ]
    }
   ],
   "source": [
    "df_edad_sin_sd = df_victimas\n",
    "df_edad_sin_sd = df_edad_sin_sd[df_edad_sin_sd.EDAD !='SD']\n",
    "df_edad_sin_sd['EDAD'] = pd.to_numeric(df_edad_sin_sd['EDAD'], errors='coerce')\n",
    "df_edad_sin_sd.info()"
   ]
  },
  {
   "cell_type": "code",
   "execution_count": 310,
   "metadata": {},
   "outputs": [
    {
     "data": {
      "image/png": "[encoded data removed]",
      "text/plain": [
       "<Figure size 1500x1200 with 4 Axes>"
      ]
     },
     "metadata": {},
     "output_type": "display_data"
    }
   ],
   "source": [
    "# 2016 -2021\n",
    "\n",
    "# Creamos los gráficos\n",
    "fig, axes = plt.subplots(2, 2, figsize=(15, 12))\n",
    "\n",
    "# Gráfico de barras para SEXO\n",
    "sns.countplot(x='SEXO', data=df_victimas, ax=axes[0, 0])\n",
    "axes[0, 0].set_title('Distribución por Sexo')\n",
    "axes[0, 0].set_ylabel('Frecuencia')\n",
    "axes[0, 0].tick_params(axis='x', rotation=45) \n",
    "\n",
    "\n",
    "# Gráfico de barras para ROL\n",
    "sns.countplot(x='ROL', data=df_victimas, ax=axes[0, 1])\n",
    "axes[0, 1].set_title('Distribución por Rol')\n",
    "axes[0, 1].set_ylabel('Frecuencia')\n",
    "axes[0, 1].tick_params(axis='x', rotation=45) \n",
    "\n",
    "\n",
    "# Gráfico de barras para VICTIMA\n",
    "sns.countplot(x='VICTIMA', data=df_victimas, ax=axes[1, 0])\n",
    "axes[1, 0].set_title('Distribución por Víctima')\n",
    "axes[1, 0].set_ylabel('Frecuencia')\n",
    "axes[1, 0].tick_params(axis='x', rotation=45) \n",
    "\n",
    "\n",
    "# Histograma para EDAD / No se consideran las victimas que poseen 'SD' en este campo.\n",
    "sns.histplot(df_edad_sin_sd['EDAD'].dropna().astype(int), bins=30, kde=True, ax=axes[1, 1])\n",
    "axes[1, 1].set_title('Distribución de Edades')\n",
    "axes[1, 1].set_ylabel('Frecuencia')\n",
    "axes[1, 1].tick_params(axis='x', rotation=45) \n",
    "\n",
    "# Ajustar el espaciado entre subgráficos\n",
    "plt.tight_layout()\n",
    "\n",
    "# Mostrar los gráficos\n",
    "plt.show()\n"
   ]
  },
  {
   "cell_type": "markdown",
   "metadata": {},
   "source": [
    "Podemos notar que las víctimas mas frecuentes fueron de sexo msculino. \n",
    "\n",
    "Entre las categorías de victimas, las motos y los peatones fueron las víctimas mas frecuentes.\n",
    "\n",
    "La victima mas frecuente según el rol, fueron los conductores, seguido de los peatones.\n",
    "\n",
    "El rango de edad mas frecuente de las víctimas se encontró entre 20 y los 40 años."
   ]
  },
  {
   "cell_type": "markdown",
   "metadata": {},
   "source": []
  },
  {
   "cell_type": "code",
   "execution_count": 311,
   "metadata": {},
   "outputs": [
    {
     "data": {
      "text/plain": [
       "Index(['ID_hecho', 'FECHA', 'AAAA', 'MM', 'DD', 'ROL', 'VICTIMA', 'SEXO',\n",
       "       'EDAD', 'FECHA_FALLECIMIENTO'],\n",
       "      dtype='object')"
      ]
     },
     "execution_count": 311,
     "metadata": {},
     "output_type": "execute_result"
    }
   ],
   "source": [
    "df_victimas.columns"
   ]
  },
  {
   "cell_type": "code",
   "execution_count": 313,
   "metadata": {},
   "outputs": [
    {
     "data": {
      "image/png": "[encoded data removed]",
      "text/plain": [
       "<Figure size 1500x1200 with 4 Axes>"
      ]
     },
     "metadata": {},
     "output_type": "display_data"
    }
   ],
   "source": [
    "df_2021 = df_victimas[df_victimas.AAAA == 2021]\n",
    "df_edad_sin_sd = df_edad_sin_sd[df_edad_sin_sd.AAAA==2021]\n",
    "# Creamos los gráficos\n",
    "fig, axes = plt.subplots(2, 2, figsize=(15, 12))\n",
    "\n",
    "# Gráfico de barras para SEXO\n",
    "sns.countplot(x='SEXO', data=df_2021, ax=axes[0, 0])\n",
    "axes[0, 0].set_title('Distribución por Sexo')\n",
    "axes[0, 0].set_ylabel('Frecuencia')\n",
    "axes[0, 0].tick_params(axis='x', rotation=45) \n",
    "\n",
    "\n",
    "# Gráfico de barras para ROL\n",
    "sns.countplot(x='ROL', data=df_2021, ax=axes[0, 1])\n",
    "axes[0, 1].set_title('Distribución por Rol')\n",
    "axes[0, 1].set_ylabel('Frecuencia')\n",
    "axes[0, 1].tick_params(axis='x', rotation=45) \n",
    "\n",
    "\n",
    "# Gráfico de barras para VICTIMA\n",
    "sns.countplot(x='VICTIMA', data=df_2021, ax=axes[1, 0])\n",
    "axes[1, 0].set_title('Distribución por Víctima')\n",
    "axes[1, 0].set_ylabel('Frecuencia')\n",
    "axes[1, 0].tick_params(axis='x', rotation=45) \n",
    "\n",
    "\n",
    "# Histograma para EDAD / No se consideran las victimas que poseen 'SD' en este campo.\n",
    "sns.histplot(df_edad_sin_sd['EDAD'].dropna().astype(int), bins=30, kde=True, ax=axes[1, 1])\n",
    "axes[1, 1].set_title('Distribución de Edades')\n",
    "axes[1, 1].set_ylabel('Frecuencia')\n",
    "axes[1, 1].tick_params(axis='x', rotation=45) \n",
    "\n",
    "# Ajustar el espaciado entre subgráficos\n",
    "plt.tight_layout()\n",
    "\n",
    "# Mostrar los gráficos\n",
    "plt.show()"
   ]
  }
 ],
 "metadata": {
  "kernelspec": {
   "display_name": "Python 3",
   "language": "python",
   "name": "python3"
  },
  "language_info": {
   "codemirror_mode": {
    "name": "ipython",
    "version": 3
   },
   "file_extension": ".py",
   "mimetype": "text/x-python",
   "name": "python",
   "nbconvert_exporter": "python",
   "pygments_lexer": "ipython3",
   "version": "3.11.0"
  },
  "orig_nbformat": 4
 },
 "nbformat": 4,
 "nbformat_minor": 2
}
